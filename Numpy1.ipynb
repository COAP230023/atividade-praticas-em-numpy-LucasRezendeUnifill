{
  "nbformat": 4,
  "nbformat_minor": 0,
  "metadata": {
    "colab": {
      "provenance": [],
      "include_colab_link": true
    },
    "kernelspec": {
      "name": "python3",
      "display_name": "Python 3"
    },
    "language_info": {
      "name": "python"
    }
  },
  "cells": [
    {
      "cell_type": "markdown",
      "metadata": {
        "id": "view-in-github",
        "colab_type": "text"
      },
      "source": [
        "<a href=\"https://colab.research.google.com/github/COAP230023/atividade-praticas-em-numpy-LucasRezendeUnifill/blob/main/Numpy1.ipynb\" target=\"_parent\"><img src=\"https://colab.research.google.com/assets/colab-badge.svg\" alt=\"Open In Colab\"/></a>"
      ]
    },
    {
      "cell_type": "markdown",
      "source": [
        "### 1. Vetor de zeros\n",
        "\n",
        "Crie um array 1D com 10 zeros usando NumPy e mostre o dtype e o shape.\n"
      ],
      "metadata": {
        "id": "nJLtw-fTDMfB"
      }
    },
    {
      "cell_type": "code",
      "execution_count": 43,
      "metadata": {
        "colab": {
          "base_uri": "https://localhost:8080/"
        },
        "id": "UFJy51WJAFAs",
        "outputId": "fe308302-fb8a-4b8e-9c5d-cb455b5e1855"
      },
      "outputs": [
        {
          "output_type": "stream",
          "name": "stdout",
          "text": [
            "Array: [0. 0. 0. 0. 0. 0. 0. 0. 0. 0.]\n",
            "dtype: float64\n",
            "shape: (10,)\n"
          ]
        }
      ],
      "source": [
        "import numpy as np\n",
        "\n",
        "zeros = np.zeros(10)\n",
        "print(f\"Array: {zeros}\")\n",
        "print(f\"dtype: {zeros.dtype}\")\n",
        "print(f\"shape: {zeros.shape}\")"
      ]
    },
    {
      "cell_type": "markdown",
      "source": [
        "### 2. Vetor de uns\n",
        "\n",
        "Crie um array 1D com 10 uns e transforme-o em float64."
      ],
      "metadata": {
        "id": "Qdz1CtYLD9P4"
      }
    },
    {
      "cell_type": "code",
      "source": [
        "import numpy as np\n",
        "\n",
        "ones = np.ones(10, dtype=np.float64)\n",
        "print(f\"Array: {ones}\")\n",
        "print(f\"dtype: {ones.dtype}\")"
      ],
      "metadata": {
        "id": "vWfpOdTaD6w-",
        "colab": {
          "base_uri": "https://localhost:8080/"
        },
        "outputId": "7fbd2d1e-ca7d-465f-f3cb-2f2983f01894"
      },
      "execution_count": 44,
      "outputs": [
        {
          "output_type": "stream",
          "name": "stdout",
          "text": [
            "Array: [1. 1. 1. 1. 1. 1. 1. 1. 1. 1.]\n",
            "dtype: float64\n"
          ]
        }
      ]
    },
    {
      "cell_type": "markdown",
      "source": [
        "### 3. Sequência 0–9\n",
        "\n",
        "Crie um array com os inteiros de 0 a 9 (inclusive)."
      ],
      "metadata": {
        "id": "RVBfOHfZEbmF"
      }
    },
    {
      "cell_type": "code",
      "source": [
        "import numpy as np\n",
        "\n",
        "seq = np.arange(10)\n",
        "print(f\"Array: {seq}\")"
      ],
      "metadata": {
        "colab": {
          "base_uri": "https://localhost:8080/"
        },
        "id": "gSwvRly0EYml",
        "outputId": "42c9d68e-91db-45e3-c7b8-2e95eaa914d5"
      },
      "execution_count": 45,
      "outputs": [
        {
          "output_type": "stream",
          "name": "stdout",
          "text": [
            "Array: [0 1 2 3 4 5 6 7 8 9]\n"
          ]
        }
      ]
    },
    {
      "cell_type": "markdown",
      "source": [
        "### 4. Matriz 3×3 com 0…8\n",
        "\n",
        "Crie um array 3×3 com os valores 0…8 (reshape)."
      ],
      "metadata": {
        "id": "ZjCbk5c2Exr4"
      }
    },
    {
      "cell_type": "code",
      "source": [
        "import numpy as np\n",
        "\n",
        "matriz = np.arange(9).reshape(3, 3)\n",
        "print(f\"Matriz 3x3:\\n{matriz}\")"
      ],
      "metadata": {
        "id": "3VJ6qr3dEwsC",
        "colab": {
          "base_uri": "https://localhost:8080/"
        },
        "outputId": "84075ad5-021f-433b-c2f9-4c72933ae3cd"
      },
      "execution_count": 46,
      "outputs": [
        {
          "output_type": "stream",
          "name": "stdout",
          "text": [
            "Matriz 3x3:\n",
            "[[0 1 2]\n",
            " [3 4 5]\n",
            " [6 7 8]]\n"
          ]
        }
      ]
    },
    {
      "cell_type": "markdown",
      "source": [
        "### 5. Índices não zero\n",
        "\n",
        "Dado o vetor `v = np.array([1,2,0,0,4,0])`, encontre os índices dos elementos não nulos."
      ],
      "metadata": {
        "id": "zY9RIoc0FK3N"
      }
    },
    {
      "cell_type": "code",
      "source": [
        "import numpy as np\n",
        "\n",
        "v = np.array([1, 2, 0, 0, 4, 0])\n",
        "indices = np.nonzero(v)[0]\n",
        "print(f\"Vetor: {v}\")\n",
        "print(f\"Índices não-zero: {indices}\")"
      ],
      "metadata": {
        "id": "K-CRias5FJud",
        "colab": {
          "base_uri": "https://localhost:8080/"
        },
        "outputId": "67985c69-1f25-4a62-b0b2-5950d63f0cde"
      },
      "execution_count": 47,
      "outputs": [
        {
          "output_type": "stream",
          "name": "stdout",
          "text": [
            "Vetor: [1 2 0 0 4 0]\n",
            "Índices não-zero: [0 1 4]\n"
          ]
        }
      ]
    },
    {
      "cell_type": "markdown",
      "source": [
        "### 6. Linspace\n",
        "\n",
        "Crie um vetor de 12 pontos igualmente espaçados no intervalo [0, 1]."
      ],
      "metadata": {
        "id": "ARx9xxSZFT7T"
      }
    },
    {
      "cell_type": "code",
      "source": [
        "import numpy as np\n",
        "\n",
        "linspace_arr = np.linspace(0, 1, 12)\n",
        "print(f\"12 pontos em [0,1]:\\n{linspace_arr}\")"
      ],
      "metadata": {
        "id": "--IX-ONjFUP8",
        "colab": {
          "base_uri": "https://localhost:8080/"
        },
        "outputId": "d4299950-56f5-42d9-b6a3-3ef39c17e499"
      },
      "execution_count": 48,
      "outputs": [
        {
          "output_type": "stream",
          "name": "stdout",
          "text": [
            "12 pontos em [0,1]:\n",
            "[0.         0.09090909 0.18181818 0.27272727 0.36363636 0.45454545\n",
            " 0.54545455 0.63636364 0.72727273 0.81818182 0.90909091 1.        ]\n"
          ]
        }
      ]
    },
    {
      "cell_type": "markdown",
      "source": [
        "### 7. Identidade 5×5\n",
        "\n",
        "Crie uma matriz identidade de ordem 5."
      ],
      "metadata": {
        "id": "Ra31HbGFGMW4"
      }
    },
    {
      "cell_type": "code",
      "source": [
        "import numpy as np\n",
        "\n",
        "identidade = np.eye(5)\n",
        "print(f\"Matriz identidade 5x5:\\n{identidade}\")"
      ],
      "metadata": {
        "id": "3E8SuD6_GMwX",
        "colab": {
          "base_uri": "https://localhost:8080/"
        },
        "outputId": "8ee4c00c-f4e8-4017-8736-3db20d04dba7"
      },
      "execution_count": 49,
      "outputs": [
        {
          "output_type": "stream",
          "name": "stdout",
          "text": [
            "Matriz identidade 5x5:\n",
            "[[1. 0. 0. 0. 0.]\n",
            " [0. 1. 0. 0. 0.]\n",
            " [0. 0. 1. 0. 0.]\n",
            " [0. 0. 0. 1. 0.]\n",
            " [0. 0. 0. 0. 1.]]\n"
          ]
        }
      ]
    },
    {
      "cell_type": "markdown",
      "source": [
        "### 8. Aleatórios 3×3×3  \n",
        "\n",
        "Gere um array 3×3×3 com valores aleatórios uniformes em [0,1). Use `np.random.default_rng(42)`."
      ],
      "metadata": {
        "id": "EgAw5ME3Kju_"
      }
    },
    {
      "cell_type": "code",
      "source": [
        "import numpy as np\n",
        "\n",
        "rng = np.random.default_rng(42)\n",
        "aleatorios = rng.random((3, 3, 3))\n",
        "print(f\"Shape: {aleatorios.shape}\")\n",
        "print(f\"Primeira camada (3x3):\\n{aleatorios[0]}\")"
      ],
      "metadata": {
        "id": "qbytj5hZKnZ-",
        "colab": {
          "base_uri": "https://localhost:8080/"
        },
        "outputId": "08e93060-6311-419d-8ab0-bf36f80b02f9"
      },
      "execution_count": 50,
      "outputs": [
        {
          "output_type": "stream",
          "name": "stdout",
          "text": [
            "Shape: (3, 3, 3)\n",
            "Primeira camada (3x3):\n",
            "[[0.77395605 0.43887844 0.85859792]\n",
            " [0.69736803 0.09417735 0.97562235]\n",
            " [0.7611397  0.78606431 0.12811363]]\n"
          ]
        }
      ]
    },
    {
      "cell_type": "markdown",
      "source": [
        "### 9. Min/Max\n",
        "Crie uma matriz 10×10 de aleatórios uniformes e mostre o valor mínimo e máximo."
      ],
      "metadata": {
        "id": "Q3Tq0zDIKsk_"
      }
    },
    {
      "cell_type": "code",
      "source": [
        "import numpy as np\n",
        "\n",
        "rng = np.random.default_rng(42)\n",
        "matriz_10x10 = rng.random((10, 10))\n",
        "print(f\"Mínimo: {matriz_10x10.min():.6f}\")\n",
        "print(f\"Máximo: {matriz_10x10.max():.6f}\")"
      ],
      "metadata": {
        "id": "bPFEqaSMKs5G",
        "colab": {
          "base_uri": "https://localhost:8080/"
        },
        "outputId": "ac5168fc-a4c6-4165-8b30-f453c8654a46"
      },
      "execution_count": 51,
      "outputs": [
        {
          "output_type": "stream",
          "name": "stdout",
          "text": [
            "Mínimo: 0.007362\n",
            "Máximo: 0.975622\n"
          ]
        }
      ]
    },
    {
      "cell_type": "markdown",
      "source": [
        "### 10. Padronização 1D\n",
        "\n",
        "Dado `x = [1,2,3,4,5]`, crie um array float e normalize para média 0 e desvio 1."
      ],
      "metadata": {
        "id": "--natk0fLAv4"
      }
    },
    {
      "cell_type": "code",
      "source": [
        "import numpy as np\n",
        "\n",
        "x = np.array([1, 2, 3, 4, 5], dtype=float)\n",
        "x_padronizado = (x - x.mean()) / x.std()\n",
        "print(f\"Original: {x}\")\n",
        "print(f\"Padronizado: {x_padronizado}\")\n",
        "print(f\"Verificação - Média: {x_padronizado.mean():.10f}, Desvio: {x_padronizado.std():.6f}\")"
      ],
      "metadata": {
        "colab": {
          "base_uri": "https://localhost:8080/"
        },
        "id": "UJ56Ee3wLMJ6",
        "outputId": "f44cb703-6c64-46dd-af7b-7966f9da8c56"
      },
      "execution_count": 52,
      "outputs": [
        {
          "output_type": "stream",
          "name": "stdout",
          "text": [
            "Original: [1. 2. 3. 4. 5.]\n",
            "Padronizado: [-1.41421356 -0.70710678  0.          0.70710678  1.41421356]\n",
            "Verificação - Média: 0.0000000000, Desvio: 1.000000\n"
          ]
        }
      ]
    },
    {
      "cell_type": "markdown",
      "source": [
        "### 11. Conversão de tipos\n",
        "\n",
        "Converta `np.array([1,2,3])` (int32) para float32 e depois para int64."
      ],
      "metadata": {
        "id": "krW0x4U1Liw7"
      }
    },
    {
      "cell_type": "code",
      "source": [
        "import numpy as np\n",
        "\n",
        "arr_int32 = np.array([1, 2, 3], dtype=np.int32)\n",
        "arr_float32 = arr_int32.astype(np.float32)\n",
        "arr_int64 = arr_float32.astype(np.int64)\n",
        "print(f\"int32: {arr_int32} (dtype: {arr_int32.dtype})\")\n",
        "print(f\"float32: {arr_float32} (dtype: {arr_float32.dtype})\")\n",
        "print(f\"int64: {arr_int64} (dtype: {arr_int64.dtype})\")"
      ],
      "metadata": {
        "colab": {
          "base_uri": "https://localhost:8080/"
        },
        "id": "jrF9mjuCLoKO",
        "outputId": "8511ec4e-4b9e-46a8-ef2d-994c3f0fd35b"
      },
      "execution_count": 53,
      "outputs": [
        {
          "output_type": "stream",
          "name": "stdout",
          "text": [
            "int32: [1 2 3] (dtype: int32)\n",
            "float32: [1. 2. 3.] (dtype: float32)\n",
            "int64: [1 2 3] (dtype: int64)\n"
          ]
        }
      ]
    },
    {
      "cell_type": "markdown",
      "source": [
        "### 12. Clipping\n",
        "\n",
        "Dado `a = [2, 5, 7, 1, 9]`, limite os valores ao intervalo [0,5] (valores acima de 5 tornam-se 5)."
      ],
      "metadata": {
        "id": "PDbuKSnZL_Mw"
      }
    },
    {
      "cell_type": "code",
      "source": [
        "import numpy as np\n",
        "\n",
        "a = np.array([2, 5, 7, 1, 9])\n",
        "a_clipped = np.clip(a, 0, 5)\n",
        "print(f\"Original: {a}\")\n",
        "print(f\"Clipped [0,5]: {a_clipped}\")"
      ],
      "metadata": {
        "id": "4eu1YH40MBOZ",
        "colab": {
          "base_uri": "https://localhost:8080/"
        },
        "outputId": "81ab3509-3224-4116-9f2b-baf36044a1fe"
      },
      "execution_count": 54,
      "outputs": [
        {
          "output_type": "stream",
          "name": "stdout",
          "text": [
            "Original: [2 5 7 1 9]\n",
            "Clipped [0,5]: [2 5 5 1 5]\n"
          ]
        }
      ]
    },
    {
      "cell_type": "markdown",
      "source": [
        "### 13. Inversão\n",
        "\n",
        "Crie um vetor de 0 a 9 e inverta a ordem (sem usar `[::-1]`).\n"
      ],
      "metadata": {
        "id": "Z2dH6-KwMCK2"
      }
    },
    {
      "cell_type": "code",
      "source": [
        "import numpy as np\n",
        "\n",
        "v = np.arange(10)\n",
        "v_invertido = np.flip(v)\n",
        "print(f\"Original: {v}\")\n",
        "print(f\"Invertido: {v_invertido}\")\n"
      ],
      "metadata": {
        "colab": {
          "base_uri": "https://localhost:8080/"
        },
        "id": "P2cYVcaeMCn_",
        "outputId": "ea6b2a86-a4df-4ce4-dd91-6d2a4bad501e"
      },
      "execution_count": 55,
      "outputs": [
        {
          "output_type": "stream",
          "name": "stdout",
          "text": [
            "Original: [0 1 2 3 4 5 6 7 8 9]\n",
            "Invertido: [9 8 7 6 5 4 3 2 1 0]\n"
          ]
        }
      ]
    },
    {
      "cell_type": "markdown",
      "source": [
        "### 14. Empilhamento\n",
        "\n",
        "Dado `a = [1,2,3]` e `b = [4,5,6]`, empilhe horizontal e verticalmente."
      ],
      "metadata": {
        "id": "EDTfsSwXBHLs"
      }
    },
    {
      "cell_type": "code",
      "source": [
        "import numpy as np\n",
        "\n",
        "a = np.array([1, 2, 3])\n",
        "b = np.array([4, 5, 6])\n",
        "h_stack = np.hstack([a, b])\n",
        "v_stack = np.vstack([a, b])\n",
        "print(f\"a: {a}\")\n",
        "print(f\"b: {b}\")\n",
        "print(f\"Empilhamento horizontal: {h_stack}\")\n",
        "print(f\"Empilhamento vertical:\\n{v_stack}\")"
      ],
      "metadata": {
        "colab": {
          "base_uri": "https://localhost:8080/"
        },
        "id": "Kdvvet_OBN9s",
        "outputId": "b412fa93-3604-4e6c-e9b7-0efe7b973a2c"
      },
      "execution_count": 56,
      "outputs": [
        {
          "output_type": "stream",
          "name": "stdout",
          "text": [
            "a: [1 2 3]\n",
            "b: [4 5 6]\n",
            "Empilhamento horizontal: [1 2 3 4 5 6]\n",
            "Empilhamento vertical:\n",
            "[[1 2 3]\n",
            " [4 5 6]]\n"
          ]
        }
      ]
    },
    {
      "cell_type": "markdown",
      "source": [
        "### 15. Diagonal\n",
        "\n",
        "Crie uma matriz 4×4 com a diagonal principal igual a 5 e as demais entradas zero."
      ],
      "metadata": {
        "id": "Nepua7ELBYF9"
      }
    },
    {
      "cell_type": "code",
      "source": [
        "import numpy as np\n",
        "\n",
        "\n",
        "diagonal = np.diag([5, 5, 5, 5])\n",
        "print(f\"Matriz 4x4:\\n{diagonal}\")"
      ],
      "metadata": {
        "id": "0_FqIjEaBZWF",
        "colab": {
          "base_uri": "https://localhost:8080/"
        },
        "outputId": "5a2336d2-f788-46d3-fd13-f1c9df946025"
      },
      "execution_count": 57,
      "outputs": [
        {
          "output_type": "stream",
          "name": "stdout",
          "text": [
            "Matriz 4x4:\n",
            "[[5 0 0 0]\n",
            " [0 5 0 0]\n",
            " [0 0 5 0]\n",
            " [0 0 0 5]]\n"
          ]
        }
      ]
    },
    {
      "cell_type": "markdown",
      "source": [
        "### 16. Somas por eixo\n",
        "Para a matriz `A = np.arange(12).reshape(3,4)`, calcule a soma por linhas e por colunas."
      ],
      "metadata": {
        "id": "TN2cvFGvBjAl"
      }
    },
    {
      "cell_type": "code",
      "source": [
        "import numpy as np\n",
        "\n",
        "A = np.arange(12).reshape(3, 4)\n",
        "soma_linhas = A.sum(axis=1)\n",
        "soma_colunas = A.sum(axis=0)\n",
        "print(f\"Matriz A:\\n{A}\")\n",
        "print(f\"Soma por linhas (axis=1): {soma_linhas}\")\n",
        "print(f\"Soma por colunas (axis=0): {soma_colunas}\")"
      ],
      "metadata": {
        "id": "Z8QtZuSzBwS4",
        "colab": {
          "base_uri": "https://localhost:8080/"
        },
        "outputId": "fc7a7705-97b8-43e6-fff6-37db32e6ce9b"
      },
      "execution_count": 58,
      "outputs": [
        {
          "output_type": "stream",
          "name": "stdout",
          "text": [
            "Matriz A:\n",
            "[[ 0  1  2  3]\n",
            " [ 4  5  6  7]\n",
            " [ 8  9 10 11]]\n",
            "Soma por linhas (axis=1): [ 6 22 38]\n",
            "Soma por colunas (axis=0): [12 15 18 21]\n"
          ]
        }
      ]
    },
    {
      "cell_type": "markdown",
      "source": [
        "### 17. Frequências inteiras\n",
        "\n",
        "Gere 100 inteiros aleatórios em [0,9] e conte as frequências de cada valor (0 a 9)."
      ],
      "metadata": {
        "id": "KB49rf76B2de"
      }
    },
    {
      "cell_type": "code",
      "source": [
        "import numpy as np\n",
        "\n",
        "rng = np.random.default_rng(42)\n",
        "inteiros = rng.integers(0, 10, size=100)\n",
        "frequencias = np.bincount(inteiros)\n",
        "print(\"Frequências:\")\n",
        "for i, freq in enumerate(frequencias):\n",
        "    print(f\"  Valor {i}: {freq} vezes\")"
      ],
      "metadata": {
        "id": "ei4C2o0yB4Cf",
        "colab": {
          "base_uri": "https://localhost:8080/"
        },
        "outputId": "ff860cb4-a834-4417-a87b-6fd956757f35"
      },
      "execution_count": 59,
      "outputs": [
        {
          "output_type": "stream",
          "name": "stdout",
          "text": [
            "Frequências:\n",
            "  Valor 0: 9 vezes\n",
            "  Valor 1: 9 vezes\n",
            "  Valor 2: 6 vezes\n",
            "  Valor 3: 9 vezes\n",
            "  Valor 4: 15 vezes\n",
            "  Valor 5: 7 vezes\n",
            "  Valor 6: 11 vezes\n",
            "  Valor 7: 15 vezes\n",
            "  Valor 8: 12 vezes\n",
            "  Valor 9: 7 vezes\n"
          ]
        }
      ]
    },
    {
      "cell_type": "markdown",
      "source": [
        "### 18. Slicing com passo\n",
        "\n",
        "Dado `v = np.arange(20)`, selecione cada 3º elemento começando do índice 1."
      ],
      "metadata": {
        "id": "ZtYajU7CCCgf"
      }
    },
    {
      "cell_type": "code",
      "source": [
        "import numpy as np\n",
        "\n",
        "v = np.arange(20)\n",
        "selecionado = v[1::3]\n",
        "print(f\"Vetor completo: {v}\")\n",
        "print(f\"Cada 3º elemento (início=1): {selecionado}\")"
      ],
      "metadata": {
        "id": "9o-VKQh1CQNo",
        "colab": {
          "base_uri": "https://localhost:8080/"
        },
        "outputId": "4a112927-75fb-4eff-8ef3-519e5d316fb2"
      },
      "execution_count": 60,
      "outputs": [
        {
          "output_type": "stream",
          "name": "stdout",
          "text": [
            "Vetor completo: [ 0  1  2  3  4  5  6  7  8  9 10 11 12 13 14 15 16 17 18 19]\n",
            "Cada 3º elemento (início=1): [ 1  4  7 10 13 16 19]\n"
          ]
        }
      ]
    },
    {
      "cell_type": "markdown",
      "source": [
        "### 19. Máscara booleana\n",
        "\n",
        "Crie uma máscara para números pares de `0…19` e use-a para filtrar o vetor."
      ],
      "metadata": {
        "id": "SpbkTE5RCV-g"
      }
    },
    {
      "cell_type": "code",
      "source": [
        "import numpy as np\n",
        "\n",
        "v = np.arange(20)\n",
        "mascara = (v % 2 == 0)\n",
        "pares = v[mascara]\n",
        "print(f\"Vetor: {v}\")\n",
        "print(f\"Máscara (pares): {mascara}\")\n",
        "print(f\"Números pares filtrados: {pares}\")"
      ],
      "metadata": {
        "id": "T7wuY0YDCY9Y",
        "colab": {
          "base_uri": "https://localhost:8080/"
        },
        "outputId": "277b3a30-e2f9-43ca-8d52-a1d2bd602316"
      },
      "execution_count": 61,
      "outputs": [
        {
          "output_type": "stream",
          "name": "stdout",
          "text": [
            "Vetor: [ 0  1  2  3  4  5  6  7  8  9 10 11 12 13 14 15 16 17 18 19]\n",
            "Máscara (pares): [ True False  True False  True False  True False  True False  True False\n",
            "  True False  True False  True False  True False]\n",
            "Números pares filtrados: [ 0  2  4  6  8 10 12 14 16 18]\n"
          ]
        }
      ]
    },
    {
      "cell_type": "markdown",
      "source": [
        "### 20. Lista de listas → array\n",
        "\n",
        "Converta `[[1,2,3],[4,5,6]]` em `ndarray`, verifique `shape` e `dtype`."
      ],
      "metadata": {
        "id": "5oiMtm_ICgOZ"
      }
    },
    {
      "cell_type": "code",
      "source": [
        "import numpy as np\n",
        "\n",
        "lista = [[1, 2, 3], [4, 5, 6]]\n",
        "arr = np.array(lista)\n",
        "print(f\"Lista original: {lista}\")\n",
        "print(f\"Array:\\n{arr}\")\n",
        "print(f\"Shape: {arr.shape}\")\n",
        "print(f\"dtype: {arr.dtype}\")"
      ],
      "metadata": {
        "id": "2i7Vdc92CkKj",
        "colab": {
          "base_uri": "https://localhost:8080/"
        },
        "outputId": "148ebe68-8470-4c42-e72b-4de554c0ab0c"
      },
      "execution_count": 62,
      "outputs": [
        {
          "output_type": "stream",
          "name": "stdout",
          "text": [
            "Lista original: [[1, 2, 3], [4, 5, 6]]\n",
            "Array:\n",
            "[[1 2 3]\n",
            " [4 5 6]]\n",
            "Shape: (2, 3)\n",
            "dtype: int64\n"
          ]
        }
      ]
    },
    {
      "cell_type": "markdown",
      "source": [
        "### 21. Datas básicas\n",
        "\n",
        "Crie um array de datas diárias de 2025-01-01 a 2025-01-07 (inclusive).\n"
      ],
      "metadata": {
        "id": "VfT85Y2gCo5s"
      }
    },
    {
      "cell_type": "code",
      "source": [
        "import numpy as np\n",
        "\n",
        "datas = np.arange('2025-01-01', '2025-01-08', dtype='datetime64[D]')\n",
        "print(f\"Datas: {datas}\")"
      ],
      "metadata": {
        "id": "MbbGV_HgCqxS",
        "colab": {
          "base_uri": "https://localhost:8080/"
        },
        "outputId": "3d479fed-2b85-4e47-a116-28a08779c6c7"
      },
      "execution_count": 63,
      "outputs": [
        {
          "output_type": "stream",
          "name": "stdout",
          "text": [
            "Datas: ['2025-01-01' '2025-01-02' '2025-01-03' '2025-01-04' '2025-01-05'\n",
            " '2025-01-06' '2025-01-07']\n"
          ]
        }
      ]
    },
    {
      "cell_type": "markdown",
      "source": [
        "### 22. Centralizar colunas\n",
        "Dada `A = np.array([[1.,2.,3.],[4.,5.,6.]])`, subtraia a média de cada coluna."
      ],
      "metadata": {
        "id": "LGglxz-gCw0q"
      }
    },
    {
      "cell_type": "code",
      "source": [
        "import numpy as np\n",
        "\n",
        "A = np.array([[1., 2., 3.], [4., 5., 6.]])\n",
        "media_colunas = A.mean(axis=0)\n",
        "A_centralizado = A - media_colunas\n",
        "print(f\"Matriz original:\\n{A}\")\n",
        "print(f\"Média das colunas: {media_colunas}\")\n",
        "print(f\"Matriz centralizada:\\n{A_centralizado}\")"
      ],
      "metadata": {
        "id": "mOejYV0lCzc9",
        "colab": {
          "base_uri": "https://localhost:8080/"
        },
        "outputId": "67fbbb47-4891-444f-dca8-97c0c0419411"
      },
      "execution_count": 64,
      "outputs": [
        {
          "output_type": "stream",
          "name": "stdout",
          "text": [
            "Matriz original:\n",
            "[[1. 2. 3.]\n",
            " [4. 5. 6.]]\n",
            "Média das colunas: [2.5 3.5 4.5]\n",
            "Matriz centralizada:\n",
            "[[-1.5 -1.5 -1.5]\n",
            " [ 1.5  1.5  1.5]]\n"
          ]
        }
      ]
    },
    {
      "cell_type": "markdown",
      "source": [
        "### 23. Produto elemento-a-elemento vs. escalar\n",
        "\n",
        "---\n",
        "\n",
        "\n",
        "\n",
        "Dadas `a=[1,2,3]` e `b=[4,5,6]`, calcule produto elemento a elemento e o produto escalar."
      ],
      "metadata": {
        "id": "BKxZa7g-C5cy"
      }
    },
    {
      "cell_type": "code",
      "source": [
        "import numpy as np\n",
        "\n",
        "a = np.array([1, 2, 3])\n",
        "b = np.array([4, 5, 6])\n",
        "prod_elem = a * b\n",
        "prod_escalar = np.dot(a, b)\n",
        "print(f\"a: {a}\")\n",
        "print(f\"b: {b}\")\n",
        "print(f\"Produto elemento-a-elemento (a*b): {prod_elem}\")\n",
        "print(f\"Produto escalar (dot): {prod_escalar}\")\n"
      ],
      "metadata": {
        "colab": {
          "base_uri": "https://localhost:8080/"
        },
        "id": "BLF1olqeC9XK",
        "outputId": "fe20b2c5-73f3-4cca-b496-2f620f82a845"
      },
      "execution_count": 65,
      "outputs": [
        {
          "output_type": "stream",
          "name": "stdout",
          "text": [
            "a: [1 2 3]\n",
            "b: [4 5 6]\n",
            "Produto elemento-a-elemento (a*b): [ 4 10 18]\n",
            "Produto escalar (dot): 32\n"
          ]
        }
      ]
    },
    {
      "cell_type": "markdown",
      "source": [
        "### 24. Troca de colunas\n",
        "\n",
        "Troque as colunas 0 e 2 de `A = np.arange(12).reshape(3,4)` sem copiar (sempre que possível)."
      ],
      "metadata": {
        "id": "KiNlsVAIDCrL"
      }
    },
    {
      "cell_type": "code",
      "source": [
        "import numpy as np\n",
        "\n",
        "A = np.arange(12).reshape(3, 4)\n",
        "print(f\"Matriz original:\\n{A}\")\n",
        "A[:, [0, 2]] = A[:, [2, 0]]\n",
        "print(f\"Após trocar colunas 0 e 2:\\n{A}\")"
      ],
      "metadata": {
        "colab": {
          "base_uri": "https://localhost:8080/"
        },
        "id": "ptHt6Zd8DFqz",
        "outputId": "d8351e07-d992-4557-b088-386ea730a53e"
      },
      "execution_count": 66,
      "outputs": [
        {
          "output_type": "stream",
          "name": "stdout",
          "text": [
            "Matriz original:\n",
            "[[ 0  1  2  3]\n",
            " [ 4  5  6  7]\n",
            " [ 8  9 10 11]]\n",
            "Após trocar colunas 0 e 2:\n",
            "[[ 2  1  0  3]\n",
            " [ 6  5  4  7]\n",
            " [10  9  8 11]]\n"
          ]
        }
      ]
    },
    {
      "cell_type": "markdown",
      "source": [
        "### 25. Flatten vs. ravel\n",
        "\n",
        "---\n",
        "\n",
        "\n",
        "\n",
        "Mostre a diferença entre `flatten()` (cópia) e `ravel()` (view quando possível). Modifique o resultado de `ravel()` e observe o original."
      ],
      "metadata": {
        "id": "zMXyYhUdDXEk"
      }
    },
    {
      "cell_type": "code",
      "source": [
        "import numpy as np\n",
        "\n",
        "A = np.arange(6).reshape(2, 3)\n",
        "print(f\"Array original:\\n{A}\")\n",
        "flat = A.flatten()\n",
        "rav = A.ravel()\n",
        "print(f\"flatten(): {flat}\")\n",
        "print(f\"ravel(): {rav}\")\n",
        "print(\"\\nModificando ravel()[0] = 999:\")\n",
        "rav[0] = 999\n",
        "print(f\"  ravel() modificado: {rav}\")\n",
        "print(f\"  Array original:\\n{A}\")\n",
        "print(\"Conclusão: ravel() retorna view (modifica original), flatten() retorna cópia\")"
      ],
      "metadata": {
        "colab": {
          "base_uri": "https://localhost:8080/"
        },
        "id": "lPEEfEAzDZG0",
        "outputId": "0d5e836c-a8e5-4027-ff0b-a2674a9a1233"
      },
      "execution_count": 67,
      "outputs": [
        {
          "output_type": "stream",
          "name": "stdout",
          "text": [
            "Array original:\n",
            "[[0 1 2]\n",
            " [3 4 5]]\n",
            "flatten(): [0 1 2 3 4 5]\n",
            "ravel(): [0 1 2 3 4 5]\n",
            "\n",
            "Modificando ravel()[0] = 999:\n",
            "  ravel() modificado: [999   1   2   3   4   5]\n",
            "  Array original:\n",
            "[[999   1   2]\n",
            " [  3   4   5]]\n",
            "Conclusão: ravel() retorna view (modifica original), flatten() retorna cópia\n"
          ]
        }
      ]
    },
    {
      "cell_type": "markdown",
      "source": [
        "### 26. Tabuleiro 8×8  \n",
        "Crie uma matriz 8×8 com padrão de tabuleiro (0 e 1 alternados)."
      ],
      "metadata": {
        "id": "qNuHo2CuDn3x"
      }
    },
    {
      "cell_type": "code",
      "source": [
        "import numpy as np\n",
        "\n",
        "tabuleiro = np.zeros((8, 8), dtype=int)\n",
        "tabuleiro[::2, 1::2] = 1\n",
        "tabuleiro[1::2, ::2] = 1\n",
        "print(f\"Tabuleiro 8x8:\\n{tabuleiro}\")"
      ],
      "metadata": {
        "colab": {
          "base_uri": "https://localhost:8080/"
        },
        "id": "5vt9lWMsDpne",
        "outputId": "048b25d7-5ebc-4479-eb68-8779af8fd0fa"
      },
      "execution_count": 68,
      "outputs": [
        {
          "output_type": "stream",
          "name": "stdout",
          "text": [
            "Tabuleiro 8x8:\n",
            "[[0 1 0 1 0 1 0 1]\n",
            " [1 0 1 0 1 0 1 0]\n",
            " [0 1 0 1 0 1 0 1]\n",
            " [1 0 1 0 1 0 1 0]\n",
            " [0 1 0 1 0 1 0 1]\n",
            " [1 0 1 0 1 0 1 0]\n",
            " [0 1 0 1 0 1 0 1]\n",
            " [1 0 1 0 1 0 1 0]]\n"
          ]
        }
      ]
    },
    {
      "cell_type": "markdown",
      "source": [
        "### 27. np.where condicional\n",
        "\n",
        "Dado `x = np.arange(-5,6)`, substitua negativos por 0 e mantenha não-negativos."
      ],
      "metadata": {
        "id": "91bNSQTYEbo5"
      }
    },
    {
      "cell_type": "code",
      "source": [
        "import numpy as np\n",
        "\n",
        "x = np.arange(-5, 6)\n",
        "x_modificado = np.where(x < 0, 0, x)\n",
        "print(f\"Original: {x}\")\n",
        "print(f\"Modificado: {x_modificado}\")"
      ],
      "metadata": {
        "colab": {
          "base_uri": "https://localhost:8080/"
        },
        "id": "E66DxemTEcry",
        "outputId": "0b76749b-ee80-419f-93df-195c0c244ce5"
      },
      "execution_count": 69,
      "outputs": [
        {
          "output_type": "stream",
          "name": "stdout",
          "text": [
            "Original: [-5 -4 -3 -2 -1  0  1  2  3  4  5]\n",
            "Modificado: [0 0 0 0 0 0 1 2 3 4 5]\n"
          ]
        }
      ]
    },
    {
      "cell_type": "markdown",
      "source": [
        "### 28. Precisão de média\n",
        "\n",
        "Gere 1_000_000 floats uniformes em [0,1) e compute a média. Compare com o valor teórico 0.5 (erro absoluto)."
      ],
      "metadata": {
        "id": "sI66dSRyEkkw"
      }
    },
    {
      "cell_type": "code",
      "source": [
        "import numpy as np\n",
        "\n",
        "rng = np.random.default_rng(42)\n",
        "floats = rng.random(1_000_000)\n",
        "media = floats.mean()\n",
        "erro = abs(media - 0.5)\n",
        "print(f\"Média calculada: {media:.10f}\")\n",
        "print(f\"Valor teórico: 0.5000000000\")\n",
        "print(f\"Erro absoluto: {erro:.10f}\")\n",
        "\n",
        "print(f\"Total de números: {len(dados)}\")\n",
        "print(f\"Média calculada: {media_calculada}\")\n",
        "print(f\"Valor teórico:   {valor_teorico}\")\n",
        "print(f\"Erro absoluto:   {erro_abs}\")"
      ],
      "metadata": {
        "id": "oMmJXWJOEn_K",
        "colab": {
          "base_uri": "https://localhost:8080/"
        },
        "outputId": "1f89f8e8-0b01-4c37-eaa7-9cb343193cad"
      },
      "execution_count": 70,
      "outputs": [
        {
          "output_type": "stream",
          "name": "stdout",
          "text": [
            "Média calculada: 0.5000264762\n",
            "Valor teórico: 0.5000000000\n",
            "Erro absoluto: 0.0000264762\n",
            "Total de números: 1000000\n",
            "Média calculada: 0.5000264761740889\n",
            "Valor teórico:   0.5\n",
            "Erro absoluto:   2.6476174088907456e-05\n"
          ]
        }
      ]
    },
    {
      "cell_type": "markdown",
      "source": [
        "### 29. Produto cartesiano (broadcasting)\n",
        "Dado `a=[1,2,3]` e `b=[10,20,30,40]`, gere todas as somas possíveis `a_i + b_j` via broadcasting (matriz 3×4)."
      ],
      "metadata": {
        "id": "iHESm99ZEsH6"
      }
    },
    {
      "cell_type": "code",
      "source": [
        "import numpy as np\n",
        "\n",
        "a = np.array([1, 2, 3])\n",
        "b = np.array([10, 20, 30, 40])\n",
        "somas = a[:, np.newaxis] + b\n",
        "print(f\"a: {a}\")\n",
        "print(f\"b: {b}\")\n",
        "print(f\"Todas as somas a_i + b_j (broadcasting):\\n{somas}\")"
      ],
      "metadata": {
        "id": "aEQYgcIEEvBp",
        "colab": {
          "base_uri": "https://localhost:8080/"
        },
        "outputId": "921775ef-65c4-4f7b-e703-ec531f5c4a50"
      },
      "execution_count": 71,
      "outputs": [
        {
          "output_type": "stream",
          "name": "stdout",
          "text": [
            "a: [1 2 3]\n",
            "b: [10 20 30 40]\n",
            "Todas as somas a_i + b_j (broadcasting):\n",
            "[[11 21 31 41]\n",
            " [12 22 32 42]\n",
            " [13 23 33 43]]\n"
          ]
        }
      ]
    },
    {
      "cell_type": "markdown",
      "source": [
        "### 30. Convolução 1D simples\n",
        "\n",
        "Implemente uma convolução 1D 'valid' de um sinal `s` por um kernel `k` usando `np.flip` e `np.lib.stride_tricks.sliding_window_view` (sem `np.convolve`)."
      ],
      "metadata": {
        "id": "7tmSNDnIExTq"
      }
    },
    {
      "cell_type": "code",
      "source": [
        "import numpy as np\n",
        "from numpy.lib.stride_tricks import sliding_window_view\n",
        "\n",
        "s = np.array([1, 2, 3, 4, 5])\n",
        "k = np.array([1, 0, -1])\n",
        "k_flip = np.flip(k)\n",
        "windows = sliding_window_view(s, len(k))\n",
        "conv_result = (windows * k_flip).sum(axis=1)\n",
        "print(f\"Sinal: {s}\")\n",
        "print(f\"Kernel: {k}\")\n",
        "print(f\"Kernel invertido: {k_flip}\")\n",
        "print(f\"Convolução 1D (valid): {conv_result}\")"
      ],
      "metadata": {
        "id": "06zx8ZLmE0Ca",
        "colab": {
          "base_uri": "https://localhost:8080/"
        },
        "outputId": "daa1fa0f-6ec7-43ba-9c31-36904fadbcb3"
      },
      "execution_count": 72,
      "outputs": [
        {
          "output_type": "stream",
          "name": "stdout",
          "text": [
            "Sinal: [1 2 3 4 5]\n",
            "Kernel: [ 1  0 -1]\n",
            "Kernel invertido: [-1  0  1]\n",
            "Convolução 1D (valid): [2 2 2]\n"
          ]
        }
      ]
    },
    {
      "cell_type": "markdown",
      "source": [
        "### 31. Normalização min–max por coluna\n",
        "\n",
        "Dada `A = rng.normal(size=(5,4))`, normalize cada coluna para o intervalo [0,1], tratando colunas constantes."
      ],
      "metadata": {
        "id": "MnYBy-4iE23R"
      }
    },
    {
      "cell_type": "code",
      "source": [
        "import numpy as np\n",
        "\n",
        "rng = np.random.default_rng(42)\n",
        "A = rng.normal(size=(5, 4))\n",
        "print(f\"Matriz original (5x4):\\n{A}\")\n",
        "min_cols = A.min(axis=0)\n",
        "max_cols = A.max(axis=0)\n",
        "range_cols = max_cols - min_cols\n",
        "range_cols[range_cols == 0] = 1\n",
        "A_norm = (A - min_cols) / range_cols\n",
        "print(f\"\\nMatriz normalizada [0,1]:\\n{A_norm}\")\n",
        "print(f\"Min por coluna: {A_norm.min(axis=0)}\")\n",
        "print(f\"Max por coluna: {A_norm.max(axis=0)}\")"
      ],
      "metadata": {
        "id": "oOSaNDOsFhUl",
        "colab": {
          "base_uri": "https://localhost:8080/"
        },
        "outputId": "e9d29a0e-607d-483c-a2c6-f6c90af95d80"
      },
      "execution_count": 73,
      "outputs": [
        {
          "output_type": "stream",
          "name": "stdout",
          "text": [
            "Matriz original (5x4):\n",
            "[[ 0.30471708 -1.03998411  0.7504512   0.94056472]\n",
            " [-1.95103519 -1.30217951  0.1278404  -0.31624259]\n",
            " [-0.01680116 -0.85304393  0.87939797  0.77779194]\n",
            " [ 0.0660307   1.12724121  0.46750934 -0.85929246]\n",
            " [ 0.36875078 -0.9588826   0.8784503  -0.04992591]]\n",
            "\n",
            "Matriz normalizada [0,1]:\n",
            "[[0.97239672 0.10792507 0.82842728 1.        ]\n",
            " [0.         0.         0.         0.30171831]\n",
            " [0.83379849 0.18487353 1.         0.9095635 ]\n",
            " [0.86950517 1.         0.45195332 0.        ]\n",
            " [1.         0.14130813 0.99873905 0.44968376]]\n",
            "Min por coluna: [0. 0. 0. 0.]\n",
            "Max por coluna: [1. 1. 1. 1.]\n"
          ]
        }
      ]
    },
    {
      "cell_type": "markdown",
      "source": [
        "### 32. Ordenar por coluna\n",
        "\n",
        "Ordene as linhas de `A = np.array([[3,9],[1,4],[2,5]])` pelo valor crescente da 2ª coluna.\n"
      ],
      "metadata": {
        "id": "uMI2L_eGFjMr"
      }
    },
    {
      "cell_type": "code",
      "source": [
        "import numpy as np\n",
        "\n",
        "A = np.array([[3, 9], [1, 4], [2, 5]])\n",
        "print(f\"Matriz original:\\n{A}\")\n",
        "indices_ordem = np.argsort(A[:, 1])\n",
        "A_ordenado = A[indices_ordem]\n",
        "print(f\"Índices de ordenação pela 2ª coluna: {indices_ordem}\")\n",
        "print(f\"Matriz ordenada:\\n{A_ordenado}\")"
      ],
      "metadata": {
        "id": "qMuhQVQoFnKk",
        "colab": {
          "base_uri": "https://localhost:8080/"
        },
        "outputId": "acdec3b3-bc4e-442a-97a0-13cdbbf41faa"
      },
      "execution_count": 74,
      "outputs": [
        {
          "output_type": "stream",
          "name": "stdout",
          "text": [
            "Matriz original:\n",
            "[[3 9]\n",
            " [1 4]\n",
            " [2 5]]\n",
            "Índices de ordenação pela 2ª coluna: [1 2 0]\n",
            "Matriz ordenada:\n",
            "[[1 4]\n",
            " [2 5]\n",
            " [3 9]]\n"
          ]
        }
      ]
    },
    {
      "cell_type": "markdown",
      "source": [
        "### 33. Únicos + contagens + primeira ocorrência\n",
        "Para `x = [3,1,2,3,2,3,1]`, obtenha valores únicos, contagens e índice da primeira ocorrência de cada valor."
      ],
      "metadata": {
        "id": "Kj_rXwSdFrM8"
      }
    },
    {
      "cell_type": "code",
      "source": [
        "import numpy as np\n",
        "\n",
        "x = np.array([3, 1, 2, 3, 2, 3, 1])\n",
        "unicos, indices, contagens = np.unique(x, return_index=True, return_counts=True)\n",
        "print(f\"Array original: {x}\")\n",
        "print(f\"Valores únicos: {unicos}\")\n",
        "print(f\"Contagens: {contagens}\")\n",
        "print(f\"Primeira ocorrência (índice): {indices}\")"
      ],
      "metadata": {
        "id": "KFPqlXm4Fr48",
        "colab": {
          "base_uri": "https://localhost:8080/"
        },
        "outputId": "2f3e4198-94c0-4221-8fb6-601e8a0c8c9c"
      },
      "execution_count": 75,
      "outputs": [
        {
          "output_type": "stream",
          "name": "stdout",
          "text": [
            "Array original: [3 1 2 3 2 3 1]\n",
            "Valores únicos: [1 2 3]\n",
            "Contagens: [2 2 3]\n",
            "Primeira ocorrência (índice): [1 2 0]\n"
          ]
        }
      ]
    },
    {
      "cell_type": "markdown",
      "source": [
        "### 34. Matriz de distâncias 2D\n",
        "\n",
        "Dada `P` com N pontos 2D, compute a matriz NxN de distâncias euclidianas sem loops explícitos."
      ],
      "metadata": {
        "id": "915iS-1CFwoO"
      }
    },
    {
      "cell_type": "code",
      "source": [
        "import numpy as np\n",
        "\n",
        "rng = np.random.default_rng(42)\n",
        "P = rng.random((5, 2))\n",
        "diff = P[:, np.newaxis, :] - P[np.newaxis, :, :]\n",
        "distancias = np.sqrt((diff ** 2).sum(axis=2))\n",
        "print(f\"Pontos (5 pontos 2D):\\n{P}\")\n",
        "print(f\"\\nMatriz de distâncias (5x5):\\n{distancias}\")"
      ],
      "metadata": {
        "id": "lfvPa3x-FxPM",
        "colab": {
          "base_uri": "https://localhost:8080/"
        },
        "outputId": "eea1f841-2dbf-4d3d-cf72-415c5967b11b"
      },
      "execution_count": 76,
      "outputs": [
        {
          "output_type": "stream",
          "name": "stdout",
          "text": [
            "Pontos (5 pontos 2D):\n",
            "[[0.77395605 0.43887844]\n",
            " [0.85859792 0.69736803]\n",
            " [0.09417735 0.97562235]\n",
            " [0.7611397  0.78606431]\n",
            " [0.12811363 0.45038594]]\n",
            "\n",
            "Matriz de distâncias (5x5):\n",
            "[[0.         0.2719947  0.86613689 0.34742234 0.64594493]\n",
            " [0.2719947  0.         0.81348895 0.13177683 0.77110793]\n",
            " [0.86613689 0.81348895 0.         0.69337655 0.52633161]\n",
            " [0.34742234 0.13177683 0.69337655 0.         0.71652074]\n",
            " [0.64594493 0.77110793 0.52633161 0.71652074 0.        ]]\n"
          ]
        }
      ]
    },
    {
      "cell_type": "markdown",
      "source": [
        "### 35. Covariância e correlação\n",
        "\n",
        "Simule uma matriz 1000×3 de N(0,1) e compute `cov` (colunas como variáveis) e `corrcoef`."
      ],
      "metadata": {
        "id": "keaLvEGiF0Cw"
      }
    },
    {
      "cell_type": "code",
      "source": [
        "import numpy as np\n",
        "\n",
        "rng = np.random.default_rng(42)\n",
        "X = rng.normal(size=(1000, 3))\n",
        "cov_matrix = np.cov(X, rowvar=False)\n",
        "corr_matrix = np.corrcoef(X, rowvar=False)\n",
        "print(f\"Dimensões de X: {X.shape}\")\n",
        "print(f\"\\nMatriz de covariância (3x3):\\n{cov_matrix}\")\n",
        "print(f\"\\nMatriz de correlação (3x3):\\n{corr_matrix}\")"
      ],
      "metadata": {
        "id": "8wZiCyWUF5oE",
        "colab": {
          "base_uri": "https://localhost:8080/"
        },
        "outputId": "ee2fe33c-a12d-4207-9281-223c7374e8d1"
      },
      "execution_count": 77,
      "outputs": [
        {
          "output_type": "stream",
          "name": "stdout",
          "text": [
            "Dimensões de X: (1000, 3)\n",
            "\n",
            "Matriz de covariância (3x3):\n",
            "[[ 1.02807939  0.003405   -0.03028368]\n",
            " [ 0.003405    0.99691425  0.06347086]\n",
            " [-0.03028368  0.06347086  1.0227042 ]]\n",
            "\n",
            "Matriz de correlação (3x3):\n",
            "[[ 1.          0.00336338 -0.02953387]\n",
            " [ 0.00336338  1.          0.06285943]\n",
            " [-0.02953387  0.06285943  1.        ]]\n"
          ]
        }
      ]
    },
    {
      "cell_type": "markdown",
      "source": [
        "### 36. One-hot encoding\n",
        "\n",
        "Converta os rótulos `y = [2,0,1,2]` em codificação one-hot usando apenas operações NumPy."
      ],
      "metadata": {
        "id": "TKbdn5UIF8Dl"
      }
    },
    {
      "cell_type": "code",
      "source": [
        "import numpy as np\n",
        "\n",
        "y = np.array([2, 0, 1, 2])\n",
        "n_classes = y.max() + 1\n",
        "one_hot = np.eye(n_classes)[y]\n",
        "print(f\"Rótulos: {y}\")\n",
        "print(f\"One-hot encoding:\\n{one_hot.astype(int)}\")"
      ],
      "metadata": {
        "id": "qUYlFo8zGAVA",
        "colab": {
          "base_uri": "https://localhost:8080/"
        },
        "outputId": "b5255a0c-25b8-4801-b44f-0767e5178eb1"
      },
      "execution_count": 78,
      "outputs": [
        {
          "output_type": "stream",
          "name": "stdout",
          "text": [
            "Rótulos: [2 0 1 2]\n",
            "One-hot encoding:\n",
            "[[0 0 1]\n",
            " [1 0 0]\n",
            " [0 1 0]\n",
            " [0 0 1]]\n"
          ]
        }
      ]
    },
    {
      "cell_type": "markdown",
      "source": [
        "### 37. k-means 2D (NumPy puro)\n",
        "\n",
        "Implemente k-means com K=3 em pontos 2D: inicialize centróides aleatórios, faça 10 iterações de (1) atribuir pontos ao centróide mais próximo e (2) recomputar centróides.\n"
      ],
      "metadata": {
        "id": "_ophmbjnGBZG"
      }
    },
    {
      "cell_type": "code",
      "source": [
        "import numpy as np\n",
        "rng = np.random.default_rng(42)\n",
        "pontos = rng.random((50, 2))\n",
        "K = 3\n",
        "centroides = pontos[rng.choice(len(pontos), K, replace=False)]\n",
        "\n",
        "for iteracao in range(10):\n",
        "    diff = pontos[:, np.newaxis, :] - centroides[np.newaxis, :, :]\n",
        "    distancias = np.sqrt((diff ** 2).sum(axis=2))\n",
        "    clusters = np.argmin(distancias, axis=1)\n",
        "    for k in range(K):\n",
        "        if np.sum(clusters == k) > 0:\n",
        "            centroides[k] = pontos[clusters == k].mean(axis=0)\n",
        "\n",
        "print(f\"Centróides finais após 10 iterações:\\n{centroides}\")\n",
        "print(f\"Atribuições (primeiros 10 pontos): {clusters[:10]}\")\n",
        "print(f\"Distribuição dos clusters: {np.bincount(clusters)}\")"
      ],
      "metadata": {
        "id": "FrAOa_4AGEbh",
        "colab": {
          "base_uri": "https://localhost:8080/"
        },
        "outputId": "45410d9b-ec04-45cc-f0e2-0272f879802e"
      },
      "execution_count": 79,
      "outputs": [
        {
          "output_type": "stream",
          "name": "stdout",
          "text": [
            "Centróides finais após 10 iterações:\n",
            "[[0.21815835 0.65863123]\n",
            " [0.36556936 0.18491548]\n",
            " [0.74386771 0.58057107]]\n",
            "Atribuições (primeiros 10 pontos): [2 2 0 2 0 0 2 1 1 2]\n",
            "Distribuição dos clusters: [15 14 21]\n"
          ]
        }
      ]
    },
    {
      "cell_type": "markdown",
      "source": [
        "### 38. PCA básica (autovetores)\n",
        "\n",
        "Implemente PCA 2D→1D: centralize `X` (N×2), calcule covariância, autovetores, projete em 1D e reconstrua aproximado.\n"
      ],
      "metadata": {
        "id": "kPL-qiKHGHJ5"
      }
    },
    {
      "cell_type": "code",
      "source": [
        "import numpy as np\n",
        "\n",
        "rng = np.random.default_rng(42)\n",
        "X = rng.normal(size=(100, 2))\n",
        "X_centered = X - X.mean(axis=0)\n",
        "cov = np.cov(X_centered, rowvar=False)\n",
        "autovalores, autovetores = np.linalg.eig(cov)\n",
        "idx_max = np.argmax(autovalores)\n",
        "pc1 = autovetores[:, idx_max]\n",
        "X_proj = X_centered @ pc1\n",
        "X_recon = np.outer(X_proj, pc1) + X.mean(axis=0)\n",
        "print(f\"Autovalores: {autovalores}\")\n",
        "print(f\"Primeiro autovetor (PC1): {pc1}\")\n",
        "print(f\"Shape da projeção: {X_proj.shape}\")\n",
        "print(f\"Erro de reconstrução (MSE): {np.mean((X - X_recon)**2):.6f}\")"
      ],
      "metadata": {
        "id": "yht_Hp1GGLeW",
        "colab": {
          "base_uri": "https://localhost:8080/"
        },
        "outputId": "e0513188-4b21-4a2e-b10c-53f87306e644"
      },
      "execution_count": 80,
      "outputs": [
        {
          "output_type": "stream",
          "name": "stdout",
          "text": [
            "Autovalores: [0.91443388 0.64853591]\n",
            "Primeiro autovetor (PC1): [0.83202934 0.55473163]\n",
            "Shape da projeção: (100,)\n",
            "Erro de reconstrução (MSE): 0.321025\n"
          ]
        }
      ]
    },
    {
      "cell_type": "markdown",
      "source": [
        "\\### 39. Convolução 2D (im2col)\n",
        "\n",
        "Implemente convolução 2D 'valid' de uma imagem `I` por um kernel `K` usando `sliding_window_view` para gerar blocos e multiplicação matricial."
      ],
      "metadata": {
        "id": "z11maTEGGNyu"
      }
    },
    {
      "cell_type": "code",
      "source": [
        "import numpy as np\n",
        "from numpy.lib.stride_tricks import sliding_window_view\n",
        "rng = np.random.default_rng(42)\n",
        "I = rng.random((6, 6))\n",
        "K = np.array([[1, 0, -1],\n",
        "              [1, 0, -1],\n",
        "              [1, 0, -1]])\n",
        "windows = sliding_window_view(I, K.shape)\n",
        "windows_flat = windows.reshape(-1, K.size)\n",
        "K_flat = K.flatten()\n",
        "conv_result = (windows_flat @ K_flat).reshape(windows.shape[:2])\n",
        "print(f\"Imagem 6x6 (amostra 3x3):\\n{I[:3, :3]}\")\n",
        "print(f\"\\nKernel 3x3:\\n{K}\")\n",
        "print(f\"\\nResultado da convolução 2D (4x4):\\n{conv_result}\")"
      ],
      "metadata": {
        "id": "VOpf1OCOGOnY",
        "colab": {
          "base_uri": "https://localhost:8080/"
        },
        "outputId": "3444942a-a8ee-4b62-ffce-9f7c98c6092e"
      },
      "execution_count": 81,
      "outputs": [
        {
          "output_type": "stream",
          "name": "stdout",
          "text": [
            "Imagem 6x6 (amostra 3x3):\n",
            "[[0.77395605 0.43887844 0.85859792]\n",
            " [0.7611397  0.78606431 0.12811363]\n",
            " [0.64386512 0.82276161 0.4434142 ]]\n",
            "\n",
            "Kernel 3x3:\n",
            "[[ 1  0 -1]\n",
            " [ 1  0 -1]\n",
            " [ 1  0 -1]]\n",
            "\n",
            "Resultado da convolução 2D (4x4):\n",
            "[[ 0.74883512  0.67271167  0.41056559 -0.59121191]\n",
            " [ 0.90302042  1.20833969 -0.56646526 -0.85155274]\n",
            " [ 0.58165685  1.02349626 -0.01134936 -1.01441887]\n",
            " [ 0.80014272  1.0250234  -0.04390923 -0.99685199]]\n"
          ]
        }
      ]
    },
    {
      "cell_type": "markdown",
      "source": [
        "### 40. Sistemas lineares e resíduo\n",
        "\n",
        "Gere uma matriz A (100×100) bem-condicionada, um vetor b e resolva `Ax=b` com `np.linalg.solve`. Compute o resíduo relativo `||Ax−b||/||b||` e `cond(A)`."
      ],
      "metadata": {
        "id": "waDBu-puGQ1g"
      }
    },
    {
      "cell_type": "code",
      "source": [
        "import numpy as np\n",
        "\n",
        "rng = np.random.default_rng(42)\n",
        "A = rng.normal(size=(100, 100))\n",
        "A = A @ A.T + 10 * np.eye(100)\n",
        "b = rng.normal(size=100)\n",
        "x = np.linalg.solve(A, b)\n",
        "residuo_rel = np.linalg.norm(A @ x - b) / np.linalg.norm(b)\n",
        "cond = np.linalg.cond(A)\n",
        "print(f\"Dimensões de A: {A.shape}\")\n",
        "print(f\"Dimensões de b: {b.shape}\")\n",
        "print(f\"Dimensões de x: {x.shape}\")\n",
        "print(f\"Resíduo relativo: {residuo_rel:.2e}\")\n",
        "print(f\"Número de condição de A: {cond:.2e}\")\n",
        "print(\"(Resíduo baixo indica solução precisa)\")"
      ],
      "metadata": {
        "id": "VGA4-r43GVC-",
        "colab": {
          "base_uri": "https://localhost:8080/"
        },
        "outputId": "91630f2a-fd81-4d96-ea1e-7b7034d22826"
      },
      "execution_count": 82,
      "outputs": [
        {
          "output_type": "stream",
          "name": "stdout",
          "text": [
            "Dimensões de A: (100, 100)\n",
            "Dimensões de b: (100,)\n",
            "Dimensões de x: (100,)\n",
            "Resíduo relativo: 1.44e-15\n",
            "Número de condição de A: 3.63e+01\n",
            "(Resíduo baixo indica solução precisa)\n"
          ]
        }
      ]
    },
    {
      "cell_type": "markdown",
      "source": [
        "### 41. Regressão linear (OLS) com NumPy\n",
        "\n",
        "Dado `X` (N×d) e `y`, calcule os coeficientes OLS usando `np.linalg.lstsq` e avalie RMSE no treino."
      ],
      "metadata": {
        "id": "WX40SFa5GXUm"
      }
    },
    {
      "cell_type": "code",
      "source": [
        "import numpy as np\n",
        "\n",
        "rng = np.random.default_rng(seed=42)\n",
        "\n",
        "N, d = 100, 3\n",
        "X = rng.random(size=(N, d))\n",
        "\n",
        "beta_verdadeiro = np.array([5.0, -2.0, 1.5])\n",
        "intercepto_verdadeiro = 3.0\n",
        "ruido = rng.normal(scale=0.1, size=N)\n",
        "\n",
        "y = intercepto_verdadeiro + (X @ beta_verdadeiro) + ruido\n",
        "\n",
        "X_b = np.hstack([np.ones((N, 1)), X])\n",
        "print(f\"Shape X original: {X.shape}, Shape y: {y.shape}\")\n",
        "print(f\"Shape X com intercepto (X_b): {X_b.shape}\")\n",
        "coefs, _, _, _ = np.linalg.lstsq(X_b, y, rcond=None)\n",
        "\n",
        "intercepto_calc = coefs[0]\n",
        "betas_calc = coefs[1:]\n",
        "print(\"\\n--- Resultados OLS ---\")\n",
        "print(f\"Intercepto Verdadeiro (B0): {intercepto_verdadeiro:.4f}\")\n",
        "print(f\"Intercepto Calculado: {intercepto_calc:.4f}\")\n",
        "print(f\"\\nBetas Verdadeiros (B1, B2, B3): {beta_verdadeiro}\")\n",
        "print(f\"Betas Calculados: {betas_calc}\")\n",
        "\n",
        "y_pred = X_b @ coefs\n",
        "mse = np.mean((y - y_pred)**2)\n",
        "rmse = np.sqrt(mse)\n",
        "\n",
        "print(f\"\\nRMSE (no treino): {rmse:.5f}\")"
      ],
      "metadata": {
        "colab": {
          "base_uri": "https://localhost:8080/"
        },
        "id": "204JcTcYGYA2",
        "outputId": "9fa23a0a-2b6a-45be-9dbd-23a0daa14c08"
      },
      "execution_count": 83,
      "outputs": [
        {
          "output_type": "stream",
          "name": "stdout",
          "text": [
            "Shape X original: (100, 3), Shape y: (100,)\n",
            "Shape X com intercepto (X_b): (100, 4)\n",
            "\n",
            "--- Resultados OLS ---\n",
            "Intercepto Verdadeiro (B0): 3.0000\n",
            "Intercepto Calculado: 3.0109\n",
            "\n",
            "Betas Verdadeiros (B1, B2, B3): [ 5.  -2.   1.5]\n",
            "Betas Calculados: [ 5.01368109 -1.98126003  1.46262967]\n",
            "\n",
            "RMSE (no treino): 0.10147\n"
          ]
        }
      ]
    },
    {
      "cell_type": "markdown",
      "source": [
        "### 42. Rolling window 2D com strides\n",
        "\n",
        "Usando `sliding_window_view`, compute a média local 3×3 de uma imagem 2D sem laços explícitos."
      ],
      "metadata": {
        "id": "YnfvQtlIGdvO"
      }
    },
    {
      "cell_type": "code",
      "source": [
        "import numpy as np\n",
        "from numpy.lib.stride_tricks import sliding_window_view\n",
        "\n",
        "rng = np.random.default_rng(42)\n",
        "imagem = rng.random((10, 10))\n",
        "windows = sliding_window_view(imagem, (3, 3))\n",
        "medias = windows.mean(axis=(2, 3))\n",
        "print(f\"Imagem original (10x10), amostra 4x4:\\n{imagem[:4, :4]}\")\n",
        "print(f\"\\nMédias locais 3x3 (8x8):\\n{medias}\")\n",
        "print(f\"Shape das médias: {medias.shape}\")"
      ],
      "metadata": {
        "colab": {
          "base_uri": "https://localhost:8080/"
        },
        "id": "644WHN5XGeqv",
        "outputId": "ee591432-1d43-4c55-979e-f4fcc02012ef"
      },
      "execution_count": 84,
      "outputs": [
        {
          "output_type": "stream",
          "name": "stdout",
          "text": [
            "Imagem original (10x10), amostra 4x4:\n",
            "[[0.77395605 0.43887844 0.85859792 0.69736803]\n",
            " [0.37079802 0.92676499 0.64386512 0.82276161]\n",
            " [0.75808774 0.35452597 0.97069802 0.89312112]\n",
            " [0.74476216 0.96750973 0.32582536 0.37045971]]\n",
            "\n",
            "Médias locais 3x3 (8x8):\n",
            "[[0.67735247 0.73406458 0.6891541  0.56963618 0.4995467  0.45262562\n",
            "  0.42068501 0.41875766]\n",
            " [0.67364857 0.69728129 0.63534272 0.48767164 0.38376995 0.26065578\n",
            "  0.32704258 0.41963148]\n",
            " [0.6768338  0.63638332 0.6281039  0.53833567 0.47257716 0.33120357\n",
            "  0.31729467 0.37379406]\n",
            " [0.55582081 0.55202692 0.57418589 0.5699581  0.52869571 0.45378385\n",
            "  0.37314353 0.3673414 ]\n",
            " [0.51878059 0.56730873 0.66297616 0.67260363 0.63520196 0.52285483\n",
            "  0.37997012 0.30056996]\n",
            " [0.4639385  0.52848221 0.58528213 0.51974088 0.48062172 0.49577965\n",
            "  0.39710794 0.39971116]\n",
            " [0.56288583 0.52050917 0.45714488 0.31185062 0.35732273 0.43643503\n",
            "  0.41689176 0.43316955]\n",
            " [0.51733621 0.48963881 0.3642267  0.2406861  0.30688966 0.39899153\n",
            "  0.38061325 0.47717713]]\n",
            "Shape das médias: (8, 8)\n"
          ]
        }
      ]
    }
  ]
}