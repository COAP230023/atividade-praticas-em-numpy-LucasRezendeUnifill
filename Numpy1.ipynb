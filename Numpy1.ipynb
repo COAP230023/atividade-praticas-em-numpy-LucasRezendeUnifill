{
  "nbformat": 4,
  "nbformat_minor": 0,
  "metadata": {
    "colab": {
      "provenance": [],
      "include_colab_link": true
    },
    "kernelspec": {
      "name": "python3",
      "display_name": "Python 3"
    },
    "language_info": {
      "name": "python"
    }
  },
  "cells": [
    {
      "cell_type": "markdown",
      "metadata": {
        "id": "view-in-github",
        "colab_type": "text"
      },
      "source": [
        "<a href=\"https://colab.research.google.com/github/COAP230023/atividade-praticas-em-numpy-LucasRezendeUnifill/blob/main/Numpy1.ipynb\" target=\"_parent\"><img src=\"https://colab.research.google.com/assets/colab-badge.svg\" alt=\"Open In Colab\"/></a>"
      ]
    },
    {
      "cell_type": "markdown",
      "source": [
        "### 1. Vetor de zeros\n",
        "\n",
        "Crie um array 1D com 10 zeros usando NumPy e mostre o dtype e o shape.\n"
      ],
      "metadata": {
        "id": "nJLtw-fTDMfB"
      }
    },
    {
      "cell_type": "code",
      "execution_count": 1,
      "metadata": {
        "colab": {
          "base_uri": "https://localhost:8080/"
        },
        "id": "UFJy51WJAFAs",
        "outputId": "71ccd297-45b6-4173-81fe-45d83e352bc0"
      },
      "outputs": [
        {
          "output_type": "stream",
          "name": "stdout",
          "text": [
            "[0. 0. 0. 0. 0. 0. 0. 0. 0. 0.]\n",
            "Dtype: float64\n",
            "Shape: (10,)\n"
          ]
        }
      ],
      "source": [
        "import numpy as np\n",
        "\n",
        "zeros = np.zeros(10)\n",
        "print(f\"Array: {zeros}\")\n",
        "print(f\"dtype: {zeros.dtype}\")\n",
        "print(f\"shape: {zeros.shape}\")"
      ]
    },
    {
      "cell_type": "markdown",
      "source": [
        "### 2. Vetor de uns\n",
        "\n",
        "Crie um array 1D com 10 uns e transforme-o em float64."
      ],
      "metadata": {
        "id": "Qdz1CtYLD9P4"
      }
    },
    {
      "cell_type": "code",
      "source": [
        "import numpy as np\n",
        "\n",
        "ones = np.ones(10, dtype=np.float64)\n",
        "print(f\"Array: {ones}\")\n",
        "print(f\"dtype: {ones.dtype}\")"
      ],
      "metadata": {
        "id": "vWfpOdTaD6w-",
        "colab": {
          "base_uri": "https://localhost:8080/"
        },
        "outputId": "10c88871-481a-4cb6-d191-b3bb24a10102"
      },
      "execution_count": 2,
      "outputs": [
        {
          "output_type": "stream",
          "name": "stdout",
          "text": [
            "[1. 1. 1. 1. 1. 1. 1. 1. 1. 1.]\n",
            "float64\n",
            "(10,)\n"
          ]
        }
      ]
    },
    {
      "cell_type": "markdown",
      "source": [
        "### 3. Sequência 0–9\n",
        "\n",
        "Crie um array com os inteiros de 0 a 9 (inclusive)."
      ],
      "metadata": {
        "id": "RVBfOHfZEbmF"
      }
    },
    {
      "cell_type": "code",
      "source": [
        "import numpy as np\n",
        "\n",
        "seq = np.arange(10)\n",
        "print(f\"Array: {seq}\")"
      ],
      "metadata": {
        "colab": {
          "base_uri": "https://localhost:8080/"
        },
        "id": "gSwvRly0EYml",
        "outputId": "908936b9-8958-4473-c3a7-930ea93c9b60"
      },
      "execution_count": 3,
      "outputs": [
        {
          "output_type": "stream",
          "name": "stdout",
          "text": [
            "[0 1 2 3 4 5 6 7 8 9]\n"
          ]
        }
      ]
    },
    {
      "cell_type": "markdown",
      "source": [
        "### 4. Matriz 3×3 com 0…8\n",
        "\n",
        "Crie um array 3×3 com os valores 0…8 (reshape)."
      ],
      "metadata": {
        "id": "ZjCbk5c2Exr4"
      }
    },
    {
      "cell_type": "code",
      "source": [
        "import numpy as np\n",
        "\n",
        "matriz = np.arange(9).reshape(3, 3)\n",
        "print(f\"Matriz 3x3:\\n{matriz}\")"
      ],
      "metadata": {
        "id": "3VJ6qr3dEwsC",
        "colab": {
          "base_uri": "https://localhost:8080/"
        },
        "outputId": "444d4932-539d-479e-8c1d-08281104fe1d"
      },
      "execution_count": 4,
      "outputs": [
        {
          "output_type": "stream",
          "name": "stdout",
          "text": [
            "[[0 1 2]\n",
            " [3 4 5]\n",
            " [6 7 8]]\n"
          ]
        }
      ]
    },
    {
      "cell_type": "markdown",
      "source": [
        "### 5. Índices não zero\n",
        "\n",
        "Dado o vetor `v = np.array([1,2,0,0,4,0])`, encontre os índices dos elementos não nulos."
      ],
      "metadata": {
        "id": "zY9RIoc0FK3N"
      }
    },
    {
      "cell_type": "code",
      "source": [
        "import numpy as np\n",
        "\n",
        "v = np.array([1, 2, 0, 0, 4, 0])\n",
        "indices = np.nonzero(v)[0]\n",
        "print(f\"Vetor: {v}\")\n",
        "print(f\"Índices não-zero: {indices}\")"
      ],
      "metadata": {
        "id": "K-CRias5FJud",
        "colab": {
          "base_uri": "https://localhost:8080/"
        },
        "outputId": "00690471-8d43-4bfb-9a9f-b4925f778174"
      },
      "execution_count": 5,
      "outputs": [
        {
          "output_type": "stream",
          "name": "stdout",
          "text": [
            "(array([0, 1, 4]),)\n"
          ]
        }
      ]
    },
    {
      "cell_type": "markdown",
      "source": [
        "### 6. Linspace\n",
        "\n",
        "Crie um vetor de 12 pontos igualmente espaçados no intervalo [0, 1]."
      ],
      "metadata": {
        "id": "ARx9xxSZFT7T"
      }
    },
    {
      "cell_type": "code",
      "source": [
        "import numpy as np\n",
        "\n",
        "linspace_arr = np.linspace(0, 1, 12)\n",
        "print(f\"12 pontos em [0,1]:\\n{linspace_arr}\")"
      ],
      "metadata": {
        "id": "--IX-ONjFUP8",
        "colab": {
          "base_uri": "https://localhost:8080/"
        },
        "outputId": "fd1f8aed-9902-4c26-d14f-c34e74804fc2"
      },
      "execution_count": 6,
      "outputs": [
        {
          "output_type": "stream",
          "name": "stdout",
          "text": [
            "[0.         0.09090909 0.18181818 0.27272727 0.36363636 0.45454545\n",
            " 0.54545455 0.63636364 0.72727273 0.81818182 0.90909091 1.        ]\n"
          ]
        }
      ]
    },
    {
      "cell_type": "markdown",
      "source": [
        "### 7. Identidade 5×5\n",
        "\n",
        "Crie uma matriz identidade de ordem 5."
      ],
      "metadata": {
        "id": "Ra31HbGFGMW4"
      }
    },
    {
      "cell_type": "code",
      "source": [
        "import numpy as np\n",
        "\n",
        "identidade = np.eye(5)\n",
        "print(f\"Matriz identidade 5x5:\\n{identidade}\")"
      ],
      "metadata": {
        "id": "3E8SuD6_GMwX",
        "colab": {
          "base_uri": "https://localhost:8080/"
        },
        "outputId": "7c64a8bf-d24a-4dc4-edf7-028ebd18069f"
      },
      "execution_count": 7,
      "outputs": [
        {
          "output_type": "stream",
          "name": "stdout",
          "text": [
            "[[1. 0. 0. 0. 0.]\n",
            " [0. 1. 0. 0. 0.]\n",
            " [0. 0. 1. 0. 0.]\n",
            " [0. 0. 0. 1. 0.]\n",
            " [0. 0. 0. 0. 1.]]\n"
          ]
        }
      ]
    },
    {
      "cell_type": "markdown",
      "source": [
        "### 8. Aleatórios 3×3×3  \n",
        "\n",
        "Gere um array 3×3×3 com valores aleatórios uniformes em [0,1). Use `np.random.default_rng(42)`."
      ],
      "metadata": {
        "id": "EgAw5ME3Kju_"
      }
    },
    {
      "cell_type": "code",
      "source": [
        "import numpy as np\n",
        "\n",
        "rng = np.random.default_rng(42)\n",
        "aleatorios = rng.random((3, 3, 3))\n",
        "print(f\"Shape: {aleatorios.shape}\")\n",
        "print(f\"Primeira camada (3x3):\\n{aleatorios[0]}\")"
      ],
      "metadata": {
        "id": "qbytj5hZKnZ-",
        "colab": {
          "base_uri": "https://localhost:8080/"
        },
        "outputId": "5e93776a-3c4d-4341-9982-87f83dd86b15"
      },
      "execution_count": 8,
      "outputs": [
        {
          "output_type": "stream",
          "name": "stdout",
          "text": [
            "[[[0.77395605 0.43887844 0.85859792]\n",
            "  [0.69736803 0.09417735 0.97562235]\n",
            "  [0.7611397  0.78606431 0.12811363]]\n",
            "\n",
            " [[0.45038594 0.37079802 0.92676499]\n",
            "  [0.64386512 0.82276161 0.4434142 ]\n",
            "  [0.22723872 0.55458479 0.06381726]]\n",
            "\n",
            " [[0.82763117 0.6316644  0.75808774]\n",
            "  [0.35452597 0.97069802 0.89312112]\n",
            "  [0.7783835  0.19463871 0.466721  ]]]\n"
          ]
        }
      ]
    },
    {
      "cell_type": "markdown",
      "source": [
        "### 9. Min/Max\n",
        "Crie uma matriz 10×10 de aleatórios uniformes e mostre o valor mínimo e máximo."
      ],
      "metadata": {
        "id": "Q3Tq0zDIKsk_"
      }
    },
    {
      "cell_type": "code",
      "source": [
        "import numpy as np\n",
        "\n",
        "rng = np.random.default_rng(42)\n",
        "matriz_10x10 = rng.random((10, 10))\n",
        "print(f\"Mínimo: {matriz_10x10.min():.6f}\")\n",
        "print(f\"Máximo: {matriz_10x10.max():.6f}\")"
      ],
      "metadata": {
        "id": "bPFEqaSMKs5G",
        "colab": {
          "base_uri": "https://localhost:8080/"
        },
        "outputId": "a3d6281b-9f77-496e-dd26-90d203e4d9fa"
      },
      "execution_count": 9,
      "outputs": [
        {
          "output_type": "stream",
          "name": "stdout",
          "text": [
            "Matriz (amostra):\n",
            " [[0.01329328 0.31791896]\n",
            " [0.16341713 0.38891594]]\n",
            "Valor Mínimo: 0.013293277571827411\n",
            "Valor Máximo: 0.9995435857971832\n"
          ]
        }
      ]
    },
    {
      "cell_type": "markdown",
      "source": [
        "### 10. Padronização 1D\n",
        "\n",
        "Dado `x = [1,2,3,4,5]`, crie um array float e normalize para média 0 e desvio 1."
      ],
      "metadata": {
        "id": "--natk0fLAv4"
      }
    },
    {
      "cell_type": "code",
      "source": [
        "import numpy as np\n",
        "\n",
        "x = np.array([1, 2, 3, 4, 5], dtype=float)\n",
        "x_padronizado = (x - x.mean()) / x.std()\n",
        "print(f\"Original: {x}\")\n",
        "print(f\"Padronizado: {x_padronizado}\")\n",
        "print(f\"Verificação - Média: {x_padronizado.mean():.10f}, Desvio: {x_padronizado.std():.6f}\")"
      ],
      "metadata": {
        "colab": {
          "base_uri": "https://localhost:8080/"
        },
        "id": "UJ56Ee3wLMJ6",
        "outputId": "67799cb3-6600-4b56-f301-ba14970b35f4"
      },
      "execution_count": 10,
      "outputs": [
        {
          "output_type": "stream",
          "name": "stdout",
          "text": [
            "[-1.41421356 -0.70710678  0.          0.70710678  1.41421356]\n",
            "Média (aprox.): 0.0\n",
            "Desvio Padrão (aprox.): 0.9999999999999999\n"
          ]
        }
      ]
    },
    {
      "cell_type": "markdown",
      "source": [
        "### 11. Conversão de tipos\n",
        "\n",
        "Converta `np.array([1,2,3])` (int32) para float32 e depois para int64."
      ],
      "metadata": {
        "id": "krW0x4U1Liw7"
      }
    },
    {
      "cell_type": "code",
      "source": [
        "import numpy as np\n",
        "\n",
        "arr_int32 = np.array([1, 2, 3], dtype=np.int32)\n",
        "arr_float32 = arr_int32.astype(np.float32)\n",
        "arr_int64 = arr_float32.astype(np.int64)\n",
        "print(f\"int32: {arr_int32} (dtype: {arr_int32.dtype})\")\n",
        "print(f\"float32: {arr_float32} (dtype: {arr_float32.dtype})\")\n",
        "print(f\"int64: {arr_int64} (dtype: {arr_int64.dtype})\")"
      ],
      "metadata": {
        "colab": {
          "base_uri": "https://localhost:8080/"
        },
        "id": "jrF9mjuCLoKO",
        "outputId": "dac94784-b836-458e-910e-a938596a04d2"
      },
      "execution_count": 11,
      "outputs": [
        {
          "output_type": "stream",
          "name": "stdout",
          "text": [
            "Original (int32): [1 2 3] int32\n",
            "Para float32: [1. 2. 3.] float32\n",
            "Para int64: [1 2 3] int64\n"
          ]
        }
      ]
    },
    {
      "cell_type": "markdown",
      "source": [
        "### 12. Clipping\n",
        "\n",
        "Dado `a = [2, 5, 7, 1, 9]`, limite os valores ao intervalo [0,5] (valores acima de 5 tornam-se 5)."
      ],
      "metadata": {
        "id": "PDbuKSnZL_Mw"
      }
    },
    {
      "cell_type": "code",
      "source": [
        "import numpy as np\n",
        "\n",
        "a = np.array([2, 5, 7, 1, 9])\n",
        "a_clipped = np.clip(a, 0, 5)\n",
        "print(f\"Original: {a}\")\n",
        "print(f\"Clipped [0,5]: {a_clipped}\")"
      ],
      "metadata": {
        "id": "4eu1YH40MBOZ",
        "colab": {
          "base_uri": "https://localhost:8080/"
        },
        "outputId": "04baf25e-3cf0-484d-c2bd-3dda57f6d2df"
      },
      "execution_count": 12,
      "outputs": [
        {
          "output_type": "stream",
          "name": "stdout",
          "text": [
            "[2 5 5 1 5]\n"
          ]
        }
      ]
    },
    {
      "cell_type": "markdown",
      "source": [
        "### 13. Inversão\n",
        "\n",
        "Crie um vetor de 0 a 9 e inverta a ordem (sem usar `[::-1]`).\n"
      ],
      "metadata": {
        "id": "Z2dH6-KwMCK2"
      }
    },
    {
      "cell_type": "code",
      "source": [
        "import numpy as np\n",
        "\n",
        "v = np.arange(10)\n",
        "v_invertido = np.flip(v)\n",
        "print(f\"Original: {v}\")\n",
        "print(f\"Invertido: {v_invertido}\")\n"
      ],
      "metadata": {
        "colab": {
          "base_uri": "https://localhost:8080/"
        },
        "id": "P2cYVcaeMCn_",
        "outputId": "4ced7915-6f99-4db0-e37b-0479b93e962e"
      },
      "execution_count": 13,
      "outputs": [
        {
          "output_type": "stream",
          "name": "stdout",
          "text": [
            "[9 8 7 6 5 4 3 2 1 0]\n"
          ]
        }
      ]
    },
    {
      "cell_type": "markdown",
      "source": [
        "### 14. Empilhamento\n",
        "\n",
        "Dado `a = [1,2,3]` e `b = [4,5,6]`, empilhe horizontal e verticalmente."
      ],
      "metadata": {
        "id": "EDTfsSwXBHLs"
      }
    },
    {
      "cell_type": "code",
      "source": [
        "import numpy as np\n",
        "\n",
        "a = np.array([1, 2, 3])\n",
        "b = np.array([4, 5, 6])\n",
        "h_stack = np.hstack([a, b])\n",
        "v_stack = np.vstack([a, b])\n",
        "print(f\"a: {a}\")\n",
        "print(f\"b: {b}\")\n",
        "print(f\"Empilhamento horizontal: {h_stack}\")\n",
        "print(f\"Empilhamento vertical:\\n{v_stack}\")"
      ],
      "metadata": {
        "colab": {
          "base_uri": "https://localhost:8080/"
        },
        "id": "Kdvvet_OBN9s",
        "outputId": "44895c70-a6bf-4e2c-b731-bd7878a6fd19"
      },
      "execution_count": 14,
      "outputs": [
        {
          "output_type": "stream",
          "name": "stdout",
          "text": [
            "Array a: [1 2 3]\n",
            "Array b: [4 5 6]\n",
            "\n",
            "Empilhamento Vertical:\n",
            " [[1 2 3]\n",
            " [4 5 6]]\n",
            "Shape: (2, 3)\n",
            "\n",
            "Empilhamento Horizontal:\n",
            " [1 2 3 4 5 6]\n",
            "Shape: (6,)\n"
          ]
        }
      ]
    },
    {
      "cell_type": "markdown",
      "source": [
        "### 15. Diagonal\n",
        "\n",
        "Crie uma matriz 4×4 com a diagonal principal igual a 5 e as demais entradas zero."
      ],
      "metadata": {
        "id": "Nepua7ELBYF9"
      }
    },
    {
      "cell_type": "code",
      "source": [
        "import numpy as np\n",
        "\n",
        "\n",
        "diagonal = np.diag([5, 5, 5, 5])\n",
        "print(f\"Matriz 4x4:\\n{diagonal}\")"
      ],
      "metadata": {
        "id": "0_FqIjEaBZWF",
        "colab": {
          "base_uri": "https://localhost:8080/"
        },
        "outputId": "b6a08a52-1bf4-4c22-fb34-fb4f5599b67d"
      },
      "execution_count": 15,
      "outputs": [
        {
          "output_type": "stream",
          "name": "stdout",
          "text": [
            "[[5. 0. 0. 0.]\n",
            " [0. 5. 0. 0.]\n",
            " [0. 0. 5. 0.]\n",
            " [0. 0. 0. 5.]]\n"
          ]
        }
      ]
    },
    {
      "cell_type": "markdown",
      "source": [
        "### 16. Somas por eixo\n",
        "Para a matriz `A = np.arange(12).reshape(3,4)`, calcule a soma por linhas e por colunas."
      ],
      "metadata": {
        "id": "TN2cvFGvBjAl"
      }
    },
    {
      "cell_type": "code",
      "source": [
        "import numpy as np\n",
        "\n",
        "A = np.arange(12).reshape(3, 4)\n",
        "soma_linhas = A.sum(axis=1)\n",
        "soma_colunas = A.sum(axis=0)\n",
        "print(f\"Matriz A:\\n{A}\")\n",
        "print(f\"Soma por linhas (axis=1): {soma_linhas}\")\n",
        "print(f\"Soma por colunas (axis=0): {soma_colunas}\")"
      ],
      "metadata": {
        "id": "Z8QtZuSzBwS4",
        "colab": {
          "base_uri": "https://localhost:8080/"
        },
        "outputId": "27b5eb19-fd13-4f87-8c3b-6c349411cf38"
      },
      "execution_count": 16,
      "outputs": [
        {
          "output_type": "stream",
          "name": "stdout",
          "text": [
            "Matriz A:\n",
            " [[ 0  1  2  3]\n",
            " [ 4  5  6  7]\n",
            " [ 8  9 10 11]]\n",
            "\n",
            "Soma por linhas (axis=1): [ 6 22 38]\n",
            "Soma por colunas (axis=0): [12 15 18 21]\n"
          ]
        }
      ]
    },
    {
      "cell_type": "markdown",
      "source": [
        "### 17. Frequências inteiras\n",
        "\n",
        "Gere 100 inteiros aleatórios em [0,9] e conte as frequências de cada valor (0 a 9)."
      ],
      "metadata": {
        "id": "KB49rf76B2de"
      }
    },
    {
      "cell_type": "code",
      "source": [
        "import numpy as np\n",
        "\n",
        "rng = np.random.default_rng(42)\n",
        "inteiros = rng.integers(0, 10, size=100)\n",
        "frequencias = np.bincount(inteiros)\n",
        "print(\"Frequências:\")\n",
        "for i, freq in enumerate(frequencias):\n",
        "    print(f\"  Valor {i}: {freq} vezes\")"
      ],
      "metadata": {
        "id": "ei4C2o0yB4Cf",
        "colab": {
          "base_uri": "https://localhost:8080/"
        },
        "outputId": "2b4d4e63-cdc5-4136-943a-ee0538fa1717"
      },
      "execution_count": 17,
      "outputs": [
        {
          "output_type": "stream",
          "name": "stdout",
          "text": [
            "Primeiros 20 inteiros gerados: [2 9 2 7 0 8 8 9 0 5 5 5 0 0 6 7 6 5 3 0]\n",
            "\n",
            "Frequências (para 0, 1, ..., 9):\n",
            "[13  4  9  9 12 16  9  7 11 10]\n"
          ]
        }
      ]
    },
    {
      "cell_type": "markdown",
      "source": [
        "### 18. Slicing com passo\n",
        "\n",
        "Dado `v = np.arange(20)`, selecione cada 3º elemento começando do índice 1."
      ],
      "metadata": {
        "id": "ZtYajU7CCCgf"
      }
    },
    {
      "cell_type": "code",
      "source": [
        "import numpy as np\n",
        "\n",
        "v = np.arange(20)\n",
        "selecionado = v[1::3]\n",
        "print(f\"Vetor completo: {v}\")\n",
        "print(f\"Cada 3º elemento (início=1): {selecionado}\")"
      ],
      "metadata": {
        "id": "9o-VKQh1CQNo",
        "colab": {
          "base_uri": "https://localhost:8080/"
        },
        "outputId": "4d915b8f-2120-4399-88d4-06411a5ff6b7"
      },
      "execution_count": 18,
      "outputs": [
        {
          "output_type": "stream",
          "name": "stdout",
          "text": [
            "Vetor original: [ 0  1  2  3  4  5  6  7  8  9 10 11 12 13 14 15 16 17 18 19]\n",
            "Cada 3º elemento a partir do índice 1: [ 1  4  7 10 13 16 19]\n"
          ]
        }
      ]
    },
    {
      "cell_type": "markdown",
      "source": [
        "### 19. Máscara booleana\n",
        "\n",
        "Crie uma máscara para números pares de `0…19` e use-a para filtrar o vetor."
      ],
      "metadata": {
        "id": "SpbkTE5RCV-g"
      }
    },
    {
      "cell_type": "code",
      "source": [
        "import numpy as np\n",
        "\n",
        "v = np.arange(20)\n",
        "mascara = (v % 2 == 0)\n",
        "pares = v[mascara]\n",
        "print(f\"Vetor: {v}\")\n",
        "print(f\"Máscara (pares): {mascara}\")\n",
        "print(f\"Números pares filtrados: {pares}\")"
      ],
      "metadata": {
        "id": "T7wuY0YDCY9Y",
        "colab": {
          "base_uri": "https://localhost:8080/"
        },
        "outputId": "009ca978-bbc3-4c11-e525-2e0c91ab6b9f"
      },
      "execution_count": 19,
      "outputs": [
        {
          "output_type": "stream",
          "name": "stdout",
          "text": [
            "Vetor original: [ 0  1  2  3  4  5  6  7  8  9 10 11 12 13 14 15 16 17 18 19]\n",
            "Máscara (Par?): [ True False  True False  True False  True False  True False  True False\n",
            "  True False  True False  True False  True False]\n",
            "Vetor filtrado (só pares): [ 0  2  4  6  8 10 12 14 16 18]\n"
          ]
        }
      ]
    },
    {
      "cell_type": "markdown",
      "source": [
        "### 20. Lista de listas → array\n",
        "\n",
        "Converta `[[1,2,3],[4,5,6]]` em `ndarray`, verifique `shape` e `dtype`."
      ],
      "metadata": {
        "id": "5oiMtm_ICgOZ"
      }
    },
    {
      "cell_type": "code",
      "source": [
        "import numpy as np\n",
        "\n",
        "lista = [[1, 2, 3], [4, 5, 6]]\n",
        "arr = np.array(lista)\n",
        "print(f\"Lista original: {lista}\")\n",
        "print(f\"Array:\\n{arr}\")\n",
        "print(f\"Shape: {arr.shape}\")\n",
        "print(f\"dtype: {arr.dtype}\")"
      ],
      "metadata": {
        "id": "2i7Vdc92CkKj",
        "colab": {
          "base_uri": "https://localhost:8080/"
        },
        "outputId": "d4b45c03-1a5f-4b7d-8de2-6804bf39779e"
      },
      "execution_count": 20,
      "outputs": [
        {
          "output_type": "stream",
          "name": "stdout",
          "text": [
            "Array NumPy:\n",
            " [[1 2 3]\n",
            " [4 5 6]]\n",
            "Shape: (2, 3)\n",
            "Dtype: int64\n"
          ]
        }
      ]
    },
    {
      "cell_type": "markdown",
      "source": [
        "### 21. Datas básicas\n",
        "\n",
        "Crie um array de datas diárias de 2025-01-01 a 2025-01-07 (inclusive).\n"
      ],
      "metadata": {
        "id": "VfT85Y2gCo5s"
      }
    },
    {
      "cell_type": "code",
      "source": [
        "import numpy as np\n",
        "\n",
        "datas = np.arange('2025-01-01', '2025-01-08', dtype='datetime64[D]')\n",
        "print(f\"Datas: {datas}\")"
      ],
      "metadata": {
        "id": "MbbGV_HgCqxS",
        "colab": {
          "base_uri": "https://localhost:8080/"
        },
        "outputId": "374d0e7f-d85c-4c55-a17c-053697a295a0"
      },
      "execution_count": 21,
      "outputs": [
        {
          "output_type": "stream",
          "name": "stdout",
          "text": [
            "['2025-01-01' '2025-01-02' '2025-01-03' '2025-01-04' '2025-01-05'\n",
            " '2025-01-06' '2025-01-07']\n"
          ]
        }
      ]
    },
    {
      "cell_type": "markdown",
      "source": [
        "### 22. Centralizar colunas\n",
        "Dada `A = np.array([[1.,2.,3.],[4.,5.,6.]])`, subtraia a média de cada coluna."
      ],
      "metadata": {
        "id": "LGglxz-gCw0q"
      }
    },
    {
      "cell_type": "code",
      "source": [
        "import numpy as np\n",
        "\n",
        "A = np.array([[1., 2., 3.], [4., 5., 6.]])\n",
        "media_colunas = A.mean(axis=0)\n",
        "A_centralizado = A - media_colunas\n",
        "print(f\"Matriz original:\\n{A}\")\n",
        "print(f\"Média das colunas: {media_colunas}\")\n",
        "print(f\"Matriz centralizada:\\n{A_centralizado}\")"
      ],
      "metadata": {
        "id": "mOejYV0lCzc9",
        "colab": {
          "base_uri": "https://localhost:8080/"
        },
        "outputId": "9c496ce9-e997-4762-b2d3-302bb32bedab"
      },
      "execution_count": 22,
      "outputs": [
        {
          "output_type": "stream",
          "name": "stdout",
          "text": [
            "Matriz Original:\n",
            " [[1. 2. 3.]\n",
            " [4. 5. 6.]]\n",
            "\n",
            "Média das colunas: [2.5 3.5 4.5]\n",
            "\n",
            "Matriz Centralizada:\n",
            " [[-1.5 -1.5 -1.5]\n",
            " [ 1.5  1.5  1.5]]\n",
            "\n",
            "Nova média das colunas (deve ser ~0):\n",
            " [0. 0. 0.]\n"
          ]
        }
      ]
    },
    {
      "cell_type": "markdown",
      "source": [
        "### 23. Produto elemento-a-elemento vs. escalar\n",
        "\n",
        "---\n",
        "\n",
        "\n",
        "\n",
        "Dadas `a=[1,2,3]` e `b=[4,5,6]`, calcule produto elemento a elemento e o produto escalar."
      ],
      "metadata": {
        "id": "BKxZa7g-C5cy"
      }
    },
    {
      "cell_type": "code",
      "source": [
        "import numpy as np\n",
        "\n",
        "a = np.array([1, 2, 3])\n",
        "b = np.array([4, 5, 6])\n",
        "prod_elem = a * b\n",
        "prod_escalar = np.dot(a, b)\n",
        "print(f\"a: {a}\")\n",
        "print(f\"b: {b}\")\n",
        "print(f\"Produto elemento-a-elemento (a*b): {prod_elem}\")\n",
        "print(f\"Produto escalar (dot): {prod_escalar}\")\n"
      ],
      "metadata": {
        "colab": {
          "base_uri": "https://localhost:8080/"
        },
        "id": "BLF1olqeC9XK",
        "outputId": "9f388040-cbc5-4236-e338-ff666c2eec3e"
      },
      "execution_count": 23,
      "outputs": [
        {
          "output_type": "stream",
          "name": "stdout",
          "text": [
            "Array a: [1 2 3]\n",
            "Array b: [4 5 6]\n",
            "\n",
            "Produto Elemento-a-Elemento (a * b): [ 4 10 18]\n",
            "Produto Escalar (np.dot(a, b)): 32\n"
          ]
        }
      ]
    },
    {
      "cell_type": "markdown",
      "source": [
        "### 24. Troca de colunas\n",
        "\n",
        "Troque as colunas 0 e 2 de `A = np.arange(12).reshape(3,4)` sem copiar (sempre que possível)."
      ],
      "metadata": {
        "id": "KiNlsVAIDCrL"
      }
    },
    {
      "cell_type": "code",
      "source": [
        "import numpy as np\n",
        "\n",
        "A = np.arange(12).reshape(3, 4)\n",
        "print(f\"Matriz original:\\n{A}\")\n",
        "A[:, [0, 2]] = A[:, [2, 0]]\n",
        "print(f\"Após trocar colunas 0 e 2:\\n{A}\")"
      ],
      "metadata": {
        "colab": {
          "base_uri": "https://localhost:8080/"
        },
        "id": "ptHt6Zd8DFqz",
        "outputId": "1289390f-73fd-4f31-9296-9127d6844c12"
      },
      "execution_count": 24,
      "outputs": [
        {
          "output_type": "stream",
          "name": "stdout",
          "text": [
            "Matriz Original:\n",
            " [[ 0  1  2  3]\n",
            " [ 4  5  6  7]\n",
            " [ 8  9 10 11]]\n",
            "\n",
            "Matriz com colunas 0 e 2 trocadas:\n",
            " [[ 2  1  0  3]\n",
            " [ 6  5  4  7]\n",
            " [10  9  8 11]]\n"
          ]
        }
      ]
    },
    {
      "cell_type": "markdown",
      "source": [
        "### 25. Flatten vs. ravel\n",
        "\n",
        "---\n",
        "\n",
        "\n",
        "\n",
        "Mostre a diferença entre `flatten()` (cópia) e `ravel()` (view quando possível). Modifique o resultado de `ravel()` e observe o original."
      ],
      "metadata": {
        "id": "zMXyYhUdDXEk"
      }
    },
    {
      "cell_type": "code",
      "source": [
        "import numpy as np\n",
        "\n",
        "A = np.arange(6).reshape(2, 3)\n",
        "print(f\"Array original:\\n{A}\")\n",
        "flat = A.flatten()\n",
        "rav = A.ravel()\n",
        "print(f\"flatten(): {flat}\")\n",
        "print(f\"ravel(): {rav}\")\n",
        "print(\"\\nModificando ravel()[0] = 999:\")\n",
        "rav[0] = 999\n",
        "print(f\"  ravel() modificado: {rav}\")\n",
        "print(f\"  Array original:\\n{A}\")\n",
        "print(\"Conclusão: ravel() retorna view (modifica original), flatten() retorna cópia\")"
      ],
      "metadata": {
        "colab": {
          "base_uri": "https://localhost:8080/"
        },
        "id": "lPEEfEAzDZG0",
        "outputId": "2619e1d0-e1e7-4b66-a278-41d265d52b0e"
      },
      "execution_count": 25,
      "outputs": [
        {
          "output_type": "stream",
          "name": "stdout",
          "text": [
            "Matriz Original A:\n",
            " [[0 1 2]\n",
            " [3 4 5]]\n",
            "\n",
            "--- Testando ravel() ---\n",
            "A foi modificado? (Sim):\n",
            " [[99  1  2]\n",
            " [ 3  4  5]]\n",
            "\n",
            "Matriz A resetada:\n",
            " [[0 1 2]\n",
            " [3 4 5]]\n",
            "\n",
            "--- Testando flatten() ---\n",
            "A foi modificado? (Não):\n",
            " [[0 1 2]\n",
            " [3 4 5]]\n",
            "Array 'f' (a cópia):\n",
            " [77  1  2  3  4  5]\n"
          ]
        }
      ]
    },
    {
      "cell_type": "markdown",
      "source": [
        "### 26. Tabuleiro 8×8  \n",
        "Crie uma matriz 8×8 com padrão de tabuleiro (0 e 1 alternados)."
      ],
      "metadata": {
        "id": "qNuHo2CuDn3x"
      }
    },
    {
      "cell_type": "code",
      "source": [
        "import numpy as np\n",
        "\n",
        "tabuleiro = np.zeros((8, 8), dtype=int)\n",
        "tabuleiro[::2, 1::2] = 1\n",
        "tabuleiro[1::2, ::2] = 1\n",
        "print(f\"Tabuleiro 8x8:\\n{tabuleiro}\")"
      ],
      "metadata": {
        "colab": {
          "base_uri": "https://localhost:8080/"
        },
        "id": "5vt9lWMsDpne",
        "outputId": "c024d9e0-acc8-4ab2-9712-6871d3688958"
      },
      "execution_count": 26,
      "outputs": [
        {
          "output_type": "stream",
          "name": "stdout",
          "text": [
            "[[0 1 0 1 0 1 0 1]\n",
            " [1 0 1 0 1 0 1 0]\n",
            " [0 1 0 1 0 1 0 1]\n",
            " [1 0 1 0 1 0 1 0]\n",
            " [0 1 0 1 0 1 0 1]\n",
            " [1 0 1 0 1 0 1 0]\n",
            " [0 1 0 1 0 1 0 1]\n",
            " [1 0 1 0 1 0 1 0]]\n"
          ]
        }
      ]
    },
    {
      "cell_type": "markdown",
      "source": [
        "### 27. np.where condicional\n",
        "\n",
        "Dado `x = np.arange(-5,6)`, substitua negativos por 0 e mantenha não-negativos."
      ],
      "metadata": {
        "id": "91bNSQTYEbo5"
      }
    },
    {
      "cell_type": "code",
      "source": [
        "import numpy as np\n",
        "\n",
        "x = np.arange(-5, 6)\n",
        "x_modificado = np.where(x < 0, 0, x)\n",
        "print(f\"Original: {x}\")\n",
        "print(f\"Modificado: {x_modificado}\")"
      ],
      "metadata": {
        "colab": {
          "base_uri": "https://localhost:8080/"
        },
        "id": "E66DxemTEcry",
        "outputId": "29359d7b-1c51-4794-af43-c65fde705cc6"
      },
      "execution_count": 27,
      "outputs": [
        {
          "output_type": "stream",
          "name": "stdout",
          "text": [
            "Vetor Original: [-5 -4 -3 -2 -1  0  1  2  3  4  5]\n",
            "Vetor modificado: [0 0 0 0 0 0 1 2 3 4 5]\n"
          ]
        }
      ]
    },
    {
      "cell_type": "markdown",
      "source": [
        "### 28. Precisão de média\n",
        "\n",
        "Gere 1_000_000 floats uniformes em [0,1) e compute a média. Compare com o valor teórico 0.5 (erro absoluto)."
      ],
      "metadata": {
        "id": "sI66dSRyEkkw"
      }
    },
    {
      "cell_type": "code",
      "source": [
        "import numpy as np\n",
        "\n",
        "rng = np.random.default_rng(42)\n",
        "floats = rng.random(1_000_000)\n",
        "media = floats.mean()\n",
        "erro = abs(media - 0.5)\n",
        "print(f\"Média calculada: {media:.10f}\")\n",
        "print(f\"Valor teórico: 0.5000000000\")\n",
        "print(f\"Erro absoluto: {erro:.10f}\")\n",
        "\n",
        "print(f\"Total de números: {len(dados)}\")\n",
        "print(f\"Média calculada: {media_calculada}\")\n",
        "print(f\"Valor teórico:   {valor_teorico}\")\n",
        "print(f\"Erro absoluto:   {erro_abs}\")"
      ],
      "metadata": {
        "id": "oMmJXWJOEn_K",
        "colab": {
          "base_uri": "https://localhost:8080/"
        },
        "outputId": "347925a2-7e81-4f20-d6f5-cd86f0f43558"
      },
      "execution_count": 28,
      "outputs": [
        {
          "output_type": "stream",
          "name": "stdout",
          "text": [
            "Total de números: 1000000\n",
            "Média calculada: 0.5000264761740889\n",
            "Valor teórico:   0.5\n",
            "Erro absoluto:   2.6476174088907456e-05\n"
          ]
        }
      ]
    },
    {
      "cell_type": "markdown",
      "source": [
        "### 29. Produto cartesiano (broadcasting)\n",
        "Dado `a=[1,2,3]` e `b=[10,20,30,40]`, gere todas as somas possíveis `a_i + b_j` via broadcasting (matriz 3×4)."
      ],
      "metadata": {
        "id": "iHESm99ZEsH6"
      }
    },
    {
      "cell_type": "code",
      "source": [
        "import numpy as np\n",
        "\n",
        "a = np.array([1, 2, 3])\n",
        "b = np.array([10, 20, 30, 40])\n",
        "somas = a[:, np.newaxis] + b\n",
        "print(f\"a: {a}\")\n",
        "print(f\"b: {b}\")\n",
        "print(f\"Todas as somas a_i + b_j (broadcasting):\\n{somas}\")"
      ],
      "metadata": {
        "id": "aEQYgcIEEvBp",
        "colab": {
          "base_uri": "https://localhost:8080/"
        },
        "outputId": "de971d40-b152-4769-bff2-828b3be356a6"
      },
      "execution_count": 29,
      "outputs": [
        {
          "output_type": "stream",
          "name": "stdout",
          "text": [
            "a (coluna 3x1):\n",
            " [[1]\n",
            " [2]\n",
            " [3]]\n",
            "\n",
            "b (linha 1x4): [10 20 30 40]\n",
            "\n",
            "Somas (broadcasting 3x4):\n",
            " [[11 21 31 41]\n",
            " [12 22 32 42]\n",
            " [13 23 33 43]]\n"
          ]
        }
      ]
    },
    {
      "cell_type": "markdown",
      "source": [
        "### 30. Convolução 1D simples\n",
        "\n",
        "Implemente uma convolução 1D 'valid' de um sinal `s` por um kernel `k` usando `np.flip` e `np.lib.stride_tricks.sliding_window_view` (sem `np.convolve`)."
      ],
      "metadata": {
        "id": "7tmSNDnIExTq"
      }
    },
    {
      "cell_type": "code",
      "source": [
        "import numpy as np\n",
        "from numpy.lib.stride_tricks import sliding_window_view\n",
        "\n",
        "s = np.array([1, 2, 3, 4, 5])\n",
        "k = np.array([1, 0, -1])\n",
        "k_flip = np.flip(k)\n",
        "windows = sliding_window_view(s, len(k))\n",
        "conv_result = (windows * k_flip).sum(axis=1)\n",
        "print(f\"Sinal: {s}\")\n",
        "print(f\"Kernel: {k}\")\n",
        "print(f\"Kernel invertido: {k_flip}\")\n",
        "print(f\"Convolução 1D (valid): {conv_result}\")"
      ],
      "metadata": {
        "id": "06zx8ZLmE0Ca",
        "colab": {
          "base_uri": "https://localhost:8080/"
        },
        "outputId": "89a99c65-49ca-4af7-d355-61edc75fa5d5"
      },
      "execution_count": 30,
      "outputs": [
        {
          "output_type": "stream",
          "name": "stdout",
          "text": [
            "Sinal: [1 2 3 4 5 6]\n",
            "Kernel: [ 1  0 -1]\n",
            "Janelas (views):\n",
            " [[1 2 3]\n",
            " [2 3 4]\n",
            " [3 4 5]\n",
            " [4 5 6]]\n",
            "Kernel invertido: [-1  0  1]\n",
            "\n",
            "Resultado da Convolução 'valid': [2 2 2 2]\n"
          ]
        }
      ]
    },
    {
      "cell_type": "markdown",
      "source": [
        "### 31. Normalização min–max por coluna\n",
        "\n",
        "Dada `A = rng.normal(size=(5,4))`, normalize cada coluna para o intervalo [0,1], tratando colunas constantes."
      ],
      "metadata": {
        "id": "MnYBy-4iE23R"
      }
    },
    {
      "cell_type": "code",
      "source": [
        "import numpy as np\n",
        "\n",
        "rng = np.random.default_rng(42)\n",
        "A = rng.normal(size=(5, 4))\n",
        "print(f\"Matriz original (5x4):\\n{A}\")\n",
        "min_cols = A.min(axis=0)\n",
        "max_cols = A.max(axis=0)\n",
        "range_cols = max_cols - min_cols\n",
        "range_cols[range_cols == 0] = 1\n",
        "A_norm = (A - min_cols) / range_cols\n",
        "print(f\"\\nMatriz normalizada [0,1]:\\n{A_norm}\")\n",
        "print(f\"Min por coluna: {A_norm.min(axis=0)}\")\n",
        "print(f\"Max por coluna: {A_norm.max(axis=0)}\")"
      ],
      "metadata": {
        "id": "oOSaNDOsFhUl",
        "colab": {
          "base_uri": "https://localhost:8080/"
        },
        "outputId": "e91ef163-92c8-4c4e-d980-0d6b798ece65"
      },
      "execution_count": 31,
      "outputs": [
        {
          "output_type": "stream",
          "name": "stdout",
          "text": [
            "Matriz Original A:\n",
            " [[ 0.30471708 -1.03998411  0.7504512   0.94056472]\n",
            " [-1.95103519 -1.30217951  0.1278404  -0.31624259]\n",
            " [-0.01680116 -0.85304393  0.87939797  0.77779194]\n",
            " [ 0.0660307   1.12724121  0.46750934 -0.85929246]\n",
            " [ 0.36875078 -0.9588826   0.8784503  -0.04992591]]\n",
            "\n",
            "Mínimos por coluna: [-1.95103519 -1.30217951  0.1278404  -0.85929246]\n",
            "Máximos por coluna: [0.36875078 1.12724121 0.87939797 0.94056472]\n",
            "\n",
            "Matriz Normalizada [0, 1]:\n",
            " [[0.97239672 0.10792507 0.82842728 1.        ]\n",
            " [0.         0.         0.         0.30171831]\n",
            " [0.83379849 0.18487353 1.         0.9095635 ]\n",
            " [0.86950517 1.         0.45195332 0.        ]\n",
            " [1.         0.14130813 0.99873905 0.44968376]]\n",
            "\n",
            "Novo Mínimo (deve ser 0): [0. 0. 0. 0.]\n",
            "Novo Máximo (deve ser 1): [1. 1. 1. 1.]\n"
          ]
        }
      ]
    },
    {
      "cell_type": "markdown",
      "source": [
        "### 32. Ordenar por coluna\n",
        "\n",
        "Ordene as linhas de `A = np.array([[3,9],[1,4],[2,5]])` pelo valor crescente da 2ª coluna.\n"
      ],
      "metadata": {
        "id": "uMI2L_eGFjMr"
      }
    },
    {
      "cell_type": "code",
      "source": [
        "import numpy as np\n",
        "\n",
        "A = np.array([[3, 9], [1, 4], [2, 5]])\n",
        "print(f\"Matriz original:\\n{A}\")\n",
        "indices_ordem = np.argsort(A[:, 1])\n",
        "A_ordenado = A[indices_ordem]\n",
        "print(f\"Índices de ordenação pela 2ª coluna: {indices_ordem}\")\n",
        "print(f\"Matriz ordenada:\\n{A_ordenado}\")"
      ],
      "metadata": {
        "id": "qMuhQVQoFnKk",
        "colab": {
          "base_uri": "https://localhost:8080/"
        },
        "outputId": "1ae7ed50-e52d-407a-ca2f-96117a72efed"
      },
      "execution_count": 32,
      "outputs": [
        {
          "output_type": "stream",
          "name": "stdout",
          "text": [
            "Matriz Original A:\n",
            " [[3 9]\n",
            " [1 4]\n",
            " [2 5]]\n",
            "\n",
            "Índices ordenados (da 2ª col): [1 2 0]\n",
            "\n",
            "Matriz ordenada pela 2ª coluna:\n",
            " [[1 4]\n",
            " [2 5]\n",
            " [3 9]]\n"
          ]
        }
      ]
    },
    {
      "cell_type": "markdown",
      "source": [
        "### 33. Únicos + contagens + primeira ocorrência\n",
        "Para `x = [3,1,2,3,2,3,1]`, obtenha valores únicos, contagens e índice da primeira ocorrência de cada valor."
      ],
      "metadata": {
        "id": "Kj_rXwSdFrM8"
      }
    },
    {
      "cell_type": "code",
      "source": [
        "import numpy as np\n",
        "\n",
        "x = np.array([3, 1, 2, 3, 2, 3, 1])\n",
        "unicos, indices, contagens = np.unique(x, return_index=True, return_counts=True)\n",
        "print(f\"Array original: {x}\")\n",
        "print(f\"Valores únicos: {unicos}\")\n",
        "print(f\"Contagens: {contagens}\")\n",
        "print(f\"Primeira ocorrência (índice): {indices}\")"
      ],
      "metadata": {
        "id": "KFPqlXm4Fr48",
        "colab": {
          "base_uri": "https://localhost:8080/"
        },
        "outputId": "b7cd4ee6-13a8-44e6-f713-a0c45f8c7c07"
      },
      "execution_count": 33,
      "outputs": [
        {
          "output_type": "stream",
          "name": "stdout",
          "text": [
            "Vetor original: [3 1 2 3 2 3 1]\n",
            "\n",
            "Valores únicos: [1 2 3]\n",
            "Índice da primeira ocorrência: [1 2 0]\n",
            "Contagem de cada valor: [2 2 3]\n"
          ]
        }
      ]
    },
    {
      "cell_type": "markdown",
      "source": [
        "### 34. Matriz de distâncias 2D\n",
        "\n",
        "Dada `P` com N pontos 2D, compute a matriz NxN de distâncias euclidianas sem loops explícitos."
      ],
      "metadata": {
        "id": "915iS-1CFwoO"
      }
    },
    {
      "cell_type": "code",
      "source": [
        "import numpy as np\n",
        "\n",
        "rng = np.random.default_rng(42)\n",
        "P = rng.random((5, 2))\n",
        "diff = P[:, np.newaxis, :] - P[np.newaxis, :, :]\n",
        "distancias = np.sqrt((diff ** 2).sum(axis=2))\n",
        "print(f\"Pontos (5 pontos 2D):\\n{P}\")\n",
        "print(f\"\\nMatriz de distâncias (5x5):\\n{distancias}\")"
      ],
      "metadata": {
        "id": "lfvPa3x-FxPM",
        "colab": {
          "base_uri": "https://localhost:8080/"
        },
        "outputId": "08bbe3d4-e482-47ce-d6bd-8961ba270e99"
      },
      "execution_count": 34,
      "outputs": [
        {
          "output_type": "stream",
          "name": "stdout",
          "text": [
            "Pontos P (Shape 5x2):\n",
            " [[0.77395605 0.43887844]\n",
            " [0.85859792 0.69736803]\n",
            " [0.09417735 0.97562235]\n",
            " [0.7611397  0.78606431]\n",
            " [0.12811363 0.45038594]]\n",
            "\n",
            "Matriz de Distâncias Euclidianas (5x5):\n",
            " [[0.         0.2719947  0.86613689 0.34742234 0.64594493]\n",
            " [0.2719947  0.         0.81348895 0.13177683 0.77110793]\n",
            " [0.86613689 0.81348895 0.         0.69337655 0.52633161]\n",
            " [0.34742234 0.13177683 0.69337655 0.         0.71652074]\n",
            " [0.64594493 0.77110793 0.52633161 0.71652074 0.        ]]\n"
          ]
        }
      ]
    },
    {
      "cell_type": "markdown",
      "source": [
        "### 35. Covariância e correlação\n",
        "\n",
        "Simule uma matriz 1000×3 de N(0,1) e compute `cov` (colunas como variáveis) e `corrcoef`."
      ],
      "metadata": {
        "id": "keaLvEGiF0Cw"
      }
    },
    {
      "cell_type": "code",
      "source": [
        "import numpy as np\n",
        "\n",
        "rng = np.random.default_rng(42)\n",
        "X = rng.normal(size=(1000, 3))\n",
        "cov_matrix = np.cov(X, rowvar=False)\n",
        "corr_matrix = np.corrcoef(X, rowvar=False)\n",
        "print(f\"Dimensões de X: {X.shape}\")\n",
        "print(f\"\\nMatriz de covariância (3x3):\\n{cov_matrix}\")\n",
        "print(f\"\\nMatriz de correlação (3x3):\\n{corr_matrix}\")"
      ],
      "metadata": {
        "id": "8wZiCyWUF5oE",
        "colab": {
          "base_uri": "https://localhost:8080/"
        },
        "outputId": "b5460361-6857-47e2-8509-e44c699e080a"
      },
      "execution_count": 35,
      "outputs": [
        {
          "output_type": "stream",
          "name": "stdout",
          "text": [
            "Shape de X (observações, variáveis): (1000, 3)\n",
            "\n",
            "Matriz de Covariância (3x3):\n",
            " [[ 1.02807939  0.003405   -0.03028368]\n",
            " [ 0.003405    0.99691425  0.06347086]\n",
            " [-0.03028368  0.06347086  1.0227042 ]]\n",
            "\n",
            "Matriz de Correlação (3x3):\n",
            " [[ 1.          0.00336338 -0.02953387]\n",
            " [ 0.00336338  1.          0.06285943]\n",
            " [-0.02953387  0.06285943  1.        ]]\n"
          ]
        }
      ]
    },
    {
      "cell_type": "markdown",
      "source": [
        "### 36. One-hot encoding\n",
        "\n",
        "Converta os rótulos `y = [2,0,1,2]` em codificação one-hot usando apenas operações NumPy."
      ],
      "metadata": {
        "id": "TKbdn5UIF8Dl"
      }
    },
    {
      "cell_type": "code",
      "source": [
        "import numpy as np\n",
        "\n",
        "y = np.array([2, 0, 1, 2])\n",
        "n_classes = y.max() + 1\n",
        "one_hot = np.eye(n_classes)[y]\n",
        "print(f\"Rótulos: {y}\")\n",
        "print(f\"One-hot encoding:\\n{one_hot.astype(int)}\")"
      ],
      "metadata": {
        "id": "qUYlFo8zGAVA",
        "colab": {
          "base_uri": "https://localhost:8080/"
        },
        "outputId": "5e0adc5d-c087-48cc-8bd9-762620cdf7ff"
      },
      "execution_count": 36,
      "outputs": [
        {
          "output_type": "stream",
          "name": "stdout",
          "text": [
            "Rótulos (y): [2 0 1 2]\n",
            "\n",
            "Shape: (4, 3)\n",
            "Codificação One-Hot:\n",
            " [[0 0 1]\n",
            " [1 0 0]\n",
            " [0 1 0]\n",
            " [0 0 1]]\n"
          ]
        }
      ]
    },
    {
      "cell_type": "markdown",
      "source": [
        "### 37. k-means 2D (NumPy puro)\n",
        "\n",
        "Implemente k-means com K=3 em pontos 2D: inicialize centróides aleatórios, faça 10 iterações de (1) atribuir pontos ao centróide mais próximo e (2) recomputar centróides.\n"
      ],
      "metadata": {
        "id": "_ophmbjnGBZG"
      }
    },
    {
      "cell_type": "code",
      "source": [
        "import numpy as np\n",
        "rng = np.random.default_rng(42)\n",
        "pontos = rng.random((50, 2))\n",
        "K = 3\n",
        "centroides = pontos[rng.choice(len(pontos), K, replace=False)]\n",
        "\n",
        "for iteracao in range(10):\n",
        "    diff = pontos[:, np.newaxis, :] - centroides[np.newaxis, :, :]\n",
        "    distancias = np.sqrt((diff ** 2).sum(axis=2))\n",
        "    clusters = np.argmin(distancias, axis=1)\n",
        "    for k in range(K):\n",
        "        if np.sum(clusters == k) > 0:\n",
        "            centroides[k] = pontos[clusters == k].mean(axis=0)\n",
        "\n",
        "print(f\"Centróides finais após 10 iterações:\\n{centroides}\")\n",
        "print(f\"Atribuições (primeiros 10 pontos): {clusters[:10]}\")\n",
        "print(f\"Distribuição dos clusters: {np.bincount(clusters)}\")"
      ],
      "metadata": {
        "id": "FrAOa_4AGEbh",
        "colab": {
          "base_uri": "https://localhost:8080/"
        },
        "outputId": "ae9d666a-9ad2-4137-b5ce-d725ec47ca37"
      },
      "execution_count": 37,
      "outputs": [
        {
          "output_type": "stream",
          "name": "stdout",
          "text": [
            "Centróides Iniciais:\n",
            " [[0.14024909 0.55403614]\n",
            " [0.15328432 0.17926831]\n",
            " [0.63471832 0.5535794 ]]\n",
            "\n",
            "Centróides Finais (após 10 iterações):\n",
            " [[0.21590466 0.69961248]\n",
            " [0.45118606 0.19895016]\n",
            " [0.770169   0.67794585]]\n"
          ]
        }
      ]
    },
    {
      "cell_type": "markdown",
      "source": [
        "### 38. PCA básica (autovetores)\n",
        "\n",
        "Implemente PCA 2D→1D: centralize `X` (N×2), calcule covariância, autovetores, projete em 1D e reconstrua aproximado.\n"
      ],
      "metadata": {
        "id": "kPL-qiKHGHJ5"
      }
    },
    {
      "cell_type": "code",
      "source": [
        "import numpy as np\n",
        "\n",
        "rng = np.random.default_rng(42)\n",
        "X = rng.normal(size=(100, 2))\n",
        "X_centered = X - X.mean(axis=0)\n",
        "cov = np.cov(X_centered, rowvar=False)\n",
        "autovalores, autovetores = np.linalg.eig(cov)\n",
        "idx_max = np.argmax(autovalores)\n",
        "pc1 = autovetores[:, idx_max]\n",
        "X_proj = X_centered @ pc1\n",
        "X_recon = np.outer(X_proj, pc1) + X.mean(axis=0)\n",
        "print(f\"Autovalores: {autovalores}\")\n",
        "print(f\"Primeiro autovetor (PC1): {pc1}\")\n",
        "print(f\"Shape da projeção: {X_proj.shape}\")\n",
        "print(f\"Erro de reconstrução (MSE): {np.mean((X - X_recon)**2):.6f}\")"
      ],
      "metadata": {
        "id": "yht_Hp1GGLeW",
        "colab": {
          "base_uri": "https://localhost:8080/"
        },
        "outputId": "7bf5f98e-8be8-459a-f56b-c58ab9fbe5b4"
      },
      "execution_count": 38,
      "outputs": [
        {
          "output_type": "stream",
          "name": "stdout",
          "text": [
            "Shape dados X: (100, 2)\n",
            "\n",
            "Matriz Covariância (2x2):\n",
            " [[0.83260985 0.63086441]\n",
            " [0.63086441 0.57097203]]\n",
            "\n",
            "Autovalores: [0.05750568 1.3460762 ]\n",
            "Autovetores:\n",
            " [[ 0.63125074 -0.77557882]\n",
            " [-0.77557882 -0.63125074]]\n",
            "\n",
            "1º Componente Principal (W):\n",
            " [[-0.77557882]\n",
            " [-0.63125074]]\n",
            "\n",
            "Dados Projetados (Z) (100x1) (primeiros 5): [-0.48483111 -1.25824298  2.45061252 -0.31634428  0.37907857]\n",
            "\n",
            "Shape Reconstruído: (100, 2)\n"
          ]
        }
      ]
    },
    {
      "cell_type": "markdown",
      "source": [
        "\\### 39. Convolução 2D (im2col)\n",
        "\n",
        "Implemente convolução 2D 'valid' de uma imagem `I` por um kernel `K` usando `sliding_window_view` para gerar blocos e multiplicação matricial."
      ],
      "metadata": {
        "id": "z11maTEGGNyu"
      }
    },
    {
      "cell_type": "code",
      "source": [
        "import numpy as np\n",
        "from numpy.lib.stride_tricks import sliding_window_view\n",
        "rng = np.random.default_rng(42)\n",
        "I = rng.random((6, 6))\n",
        "K = np.array([[1, 0, -1],\n",
        "              [1, 0, -1],\n",
        "              [1, 0, -1]])\n",
        "windows = sliding_window_view(I, K.shape)\n",
        "windows_flat = windows.reshape(-1, K.size)\n",
        "K_flat = K.flatten()\n",
        "conv_result = (windows_flat @ K_flat).reshape(windows.shape[:2])\n",
        "print(f\"Imagem 6x6 (amostra 3x3):\\n{I[:3, :3]}\")\n",
        "print(f\"\\nKernel 3x3:\\n{K}\")\n",
        "print(f\"\\nResultado da convolução 2D (4x4):\\n{conv_result}\")"
      ],
      "metadata": {
        "id": "VOpf1OCOGOnY",
        "colab": {
          "base_uri": "https://localhost:8080/"
        },
        "outputId": "ff9cc218-f28a-4c96-e661-323dca7cdaf1"
      },
      "execution_count": 39,
      "outputs": [
        {
          "output_type": "stream",
          "name": "stdout",
          "text": [
            "Shape Imagem: (5, 5)\n",
            "Shape Kernel: (3, 3)\n",
            "Shape das Janelas (Views): (3, 3, 3, 3)\n",
            "Shape Kernel achatado: (9,)\n",
            "Shape Janelas achatadas: (9, 9)\n",
            "\n",
            "Convolução 2D 'valid' (resultado):\n",
            " [[-6. -6. -6.]\n",
            " [-6. -6. -6.]\n",
            " [-6. -6. -6.]]\n"
          ]
        }
      ]
    },
    {
      "cell_type": "markdown",
      "source": [
        "### 40. Sistemas lineares e resíduo\n",
        "\n",
        "Gere uma matriz A (100×100) bem-condicionada, um vetor b e resolva `Ax=b` com `np.linalg.solve`. Compute o resíduo relativo `||Ax−b||/||b||` e `cond(A)`."
      ],
      "metadata": {
        "id": "waDBu-puGQ1g"
      }
    },
    {
      "cell_type": "code",
      "source": [
        "import numpy as np\n",
        "\n",
        "rng = np.random.default_rng(42)\n",
        "A = rng.normal(size=(100, 100))\n",
        "A = A @ A.T + 10 * np.eye(100)\n",
        "b = rng.normal(size=100)\n",
        "x = np.linalg.solve(A, b)\n",
        "residuo_rel = np.linalg.norm(A @ x - b) / np.linalg.norm(b)\n",
        "cond = np.linalg.cond(A)\n",
        "print(f\"Dimensões de A: {A.shape}\")\n",
        "print(f\"Dimensões de b: {b.shape}\")\n",
        "print(f\"Dimensões de x: {x.shape}\")\n",
        "print(f\"Resíduo relativo: {residuo_rel:.2e}\")\n",
        "print(f\"Número de condição de A: {cond:.2e}\")\n",
        "print(\"(Resíduo baixo indica solução precisa)\")"
      ],
      "metadata": {
        "id": "VGA4-r43GVC-",
        "colab": {
          "base_uri": "https://localhost:8080/"
        },
        "outputId": "eb447655-ce19-4321-a091-9c4ffad823eb"
      },
      "execution_count": 40,
      "outputs": [
        {
          "output_type": "stream",
          "name": "stdout",
          "text": [
            "Sistema N=100\n",
            "Número de Condição cond(A): 1.553882670511607\n",
            "Norma do Resíduo ||Ax - b||: 1.7666674615290067e-15\n",
            "Norma de b ||b||: 5.938917820663178\n",
            "Resíduo Relativo ||Ax - b|| / ||b||: 2.974729597002117e-16\n"
          ]
        }
      ]
    },
    {
      "cell_type": "markdown",
      "source": [
        "### 41. Regressão linear (OLS) com NumPy\n",
        "\n",
        "Dado `X` (N×d) e `y`, calcule os coeficientes OLS usando `np.linalg.lstsq` e avalie RMSE no treino."
      ],
      "metadata": {
        "id": "WX40SFa5GXUm"
      }
    },
    {
      "cell_type": "code",
      "source": [
        "import numpy as np\n",
        "\n",
        "rng = np.random.default_rng(seed=42)\n",
        "\n",
        "N, d = 100, 3\n",
        "X = rng.random(size=(N, d))\n",
        "\n",
        "beta_verdadeiro = np.array([5.0, -2.0, 1.5])\n",
        "intercepto_verdadeiro = 3.0\n",
        "ruido = rng.normal(scale=0.1, size=N)\n",
        "\n",
        "y = intercepto_verdadeiro + (X @ beta_verdadeiro) + ruido\n",
        "\n",
        "X_b = np.hstack([np.ones((N, 1)), X])\n",
        "print(f\"Shape X original: {X.shape}, Shape y: {y.shape}\")\n",
        "print(f\"Shape X com intercepto (X_b): {X_b.shape}\")\n",
        "coefs, _, _, _ = np.linalg.lstsq(X_b, y, rcond=None)\n",
        "\n",
        "intercepto_calc = coefs[0]\n",
        "betas_calc = coefs[1:]\n",
        "print(\"\\n--- Resultados OLS ---\")\n",
        "print(f\"Intercepto Verdadeiro (B0): {intercepto_verdadeiro:.4f}\")\n",
        "print(f\"Intercepto Calculado: {intercepto_calc:.4f}\")\n",
        "print(f\"\\nBetas Verdadeiros (B1, B2, B3): {beta_verdadeiro}\")\n",
        "print(f\"Betas Calculados: {betas_calc}\")\n",
        "\n",
        "y_pred = X_b @ coefs\n",
        "mse = np.mean((y - y_pred)**2)\n",
        "rmse = np.sqrt(mse)\n",
        "\n",
        "print(f\"\\nRMSE (no treino): {rmse:.5f}\")"
      ],
      "metadata": {
        "colab": {
          "base_uri": "https://localhost:8080/"
        },
        "id": "204JcTcYGYA2",
        "outputId": "b2d6ec88-e627-4249-bece-c4c81190eb4a"
      },
      "execution_count": 41,
      "outputs": [
        {
          "output_type": "stream",
          "name": "stdout",
          "text": [
            "Shape X original: (100, 3), Shape y: (100,)\n",
            "Shape X com intercepto (X_b): (100, 4)\n",
            "\n",
            "--- Resultados OLS ---\n",
            "Intercepto Verdadeiro (B0): 3.0000\n",
            "Intercepto Calculado: 3.0109\n",
            "\n",
            "Betas Verdadeiros (B1, B2, B3): [ 5.  -2.   1.5]\n",
            "Betas Calculados: [ 5.01368109 -1.98126003  1.46262967]\n",
            "\n",
            "RMSE (no treino): 0.10147\n"
          ]
        }
      ]
    },
    {
      "cell_type": "markdown",
      "source": [
        "### 42. Rolling window 2D com strides\n",
        "\n",
        "Usando `sliding_window_view`, compute a média local 3×3 de uma imagem 2D sem laços explícitos."
      ],
      "metadata": {
        "id": "YnfvQtlIGdvO"
      }
    },
    {
      "cell_type": "code",
      "source": [
        "import numpy as np\n",
        "from numpy.lib.stride_tricks import sliding_window_view\n",
        "\n",
        "rng = np.random.default_rng(42)\n",
        "imagem = rng.random((10, 10))\n",
        "windows = sliding_window_view(imagem, (3, 3))\n",
        "medias = windows.mean(axis=(2, 3))\n",
        "print(f\"Imagem original (10x10), amostra 4x4:\\n{imagem[:4, :4]}\")\n",
        "print(f\"\\nMédias locais 3x3 (8x8):\\n{medias}\")\n",
        "print(f\"Shape das médias: {medias.shape}\")"
      ],
      "metadata": {
        "colab": {
          "base_uri": "https://localhost:8080/"
        },
        "id": "644WHN5XGeqv",
        "outputId": "c07dfcb9-d2a6-4ecd-c53e-daa2a7c2f32d"
      },
      "execution_count": 42,
      "outputs": [
        {
          "output_type": "stream",
          "name": "stdout",
          "text": [
            "Imagem Original (6x6):\n",
            " [[ 0  1  2  3  4  5]\n",
            " [ 6  7  8  9 10 11]\n",
            " [12 13 14 15 16 17]\n",
            " [18 19 20 21 22 23]\n",
            " [24 25 26 27 28 29]\n",
            " [30 31 32 33 34 35]]\n",
            "\n",
            "Shape das Views (Janelas): (4, 4, 3, 3)\n",
            "\n",
            "Matriz de Média Local 3x3 (4x4):\n",
            " [[ 7.  8.  9. 10.]\n",
            " [13. 14. 15. 16.]\n",
            " [19. 20. 21. 22.]\n",
            " [25. 26. 27. 28.]]\n"
          ]
        }
      ]
    }
  ]
}